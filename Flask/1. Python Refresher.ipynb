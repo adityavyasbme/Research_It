{
 "cells": [
  {
   "cell_type": "markdown",
   "metadata": {},
   "source": [
    "## Positional Arguments"
   ]
  },
  {
   "cell_type": "code",
   "execution_count": 1,
   "metadata": {},
   "outputs": [
    {
     "data": {
      "text/plain": [
       "15"
      ]
     },
     "execution_count": 1,
     "metadata": {},
     "output_type": "execute_result"
    }
   ],
   "source": [
    "def multiply(*args):\n",
    "#     print(args)\n",
    "    total =1 \n",
    "    for arg in args:\n",
    "        total = total*arg\n",
    "    return total\n",
    "multiply(1,3,5)"
   ]
  },
  {
   "cell_type": "code",
   "execution_count": 2,
   "metadata": {},
   "outputs": [
    {
     "name": "stdout",
     "output_type": "stream",
     "text": [
      "x is 3\n",
      "y is 5\n"
     ]
    },
    {
     "data": {
      "text/plain": [
       "8"
      ]
     },
     "execution_count": 2,
     "metadata": {},
     "output_type": "execute_result"
    }
   ],
   "source": [
    "def add(x,y):\n",
    "    print(\"x is {}\".format(x))\n",
    "    print(\"y is {}\".format(y))\n",
    "    return x+y\n",
    "nums = [3,5]\n",
    "add(*nums)"
   ]
  },
  {
   "cell_type": "code",
   "execution_count": 3,
   "metadata": {},
   "outputs": [
    {
     "name": "stdout",
     "output_type": "stream",
     "text": [
      "x is 10\n",
      "y is 20\n"
     ]
    },
    {
     "data": {
      "text/plain": [
       "30"
      ]
     },
     "execution_count": 3,
     "metadata": {},
     "output_type": "execute_result"
    }
   ],
   "source": [
    "nums= {'x':10,'y':20}\n",
    "add(**nums)"
   ]
  },
  {
   "cell_type": "code",
   "execution_count": 4,
   "metadata": {},
   "outputs": [
    {
     "name": "stdout",
     "output_type": "stream",
     "text": [
      "9\n"
     ]
    }
   ],
   "source": [
    "def apply(*args,operator):\n",
    "    if operator ==\"*\":\n",
    "        return multiply(*args)\n",
    "    elif operator ==\"+\":\n",
    "        return sum(args)\n",
    "    else:\n",
    "        return \"Invalid operator\"\n",
    "print(apply(1,3,5,operator = '+'))"
   ]
  },
  {
   "cell_type": "markdown",
   "metadata": {},
   "source": [
    "## KeyWord Arguments "
   ]
  },
  {
   "cell_type": "code",
   "execution_count": 5,
   "metadata": {},
   "outputs": [],
   "source": [
    "def named(**kwargs):\n",
    "    print(kwargs)"
   ]
  },
  {
   "cell_type": "code",
   "execution_count": 6,
   "metadata": {},
   "outputs": [
    {
     "name": "stdout",
     "output_type": "stream",
     "text": [
      "{'name': 'Bob', 'age': '25'}\n"
     ]
    }
   ],
   "source": [
    "named(name='Bob',age='25')"
   ]
  },
  {
   "cell_type": "code",
   "execution_count": 8,
   "metadata": {},
   "outputs": [
    {
     "name": "stdout",
     "output_type": "stream",
     "text": [
      "{'name': 'Bob', 'age': '25'}\n"
     ]
    }
   ],
   "source": [
    "details = {'name': 'Bob', 'age': '25'}\n",
    "named(**details)"
   ]
  },
  {
   "cell_type": "code",
   "execution_count": 17,
   "metadata": {},
   "outputs": [],
   "source": [
    "def print_nicely(**kwargs):\n",
    "    named(**kwargs)\n",
    "    print(\"---------------\")\n",
    "    for arg,val in kwargs.items():\n",
    "        print(f\"Argument is {arg} \\n Value is {val}\")\n",
    "    print(\"---------------\")"
   ]
  },
  {
   "cell_type": "code",
   "execution_count": 18,
   "metadata": {},
   "outputs": [
    {
     "name": "stdout",
     "output_type": "stream",
     "text": [
      "{'name': 'Bob', 'age': '25'}\n",
      "---------------\n",
      "Argument is name \n",
      " Value is Bob\n",
      "Argument is age \n",
      " Value is 25\n",
      "---------------\n"
     ]
    }
   ],
   "source": [
    "print_nicely(**details)"
   ]
  },
  {
   "cell_type": "code",
   "execution_count": 19,
   "metadata": {},
   "outputs": [
    {
     "name": "stdout",
     "output_type": "stream",
     "text": [
      "{'name': 'Adi', 'age': 24}\n",
      "---------------\n",
      "Argument is name \n",
      " Value is Adi\n",
      "Argument is age \n",
      " Value is 24\n",
      "---------------\n"
     ]
    }
   ],
   "source": [
    "print_nicely(name='Adi',age=24)"
   ]
  },
  {
   "cell_type": "markdown",
   "metadata": {},
   "source": [
    "## Using both arguments at the same time"
   ]
  },
  {
   "cell_type": "code",
   "execution_count": 25,
   "metadata": {},
   "outputs": [],
   "source": [
    "def both(*args,**kwargs):\n",
    "    print(f\"Positional Argument : {args}\")\n",
    "    print(f\"Keyword Arguments : {kwargs}\")"
   ]
  },
  {
   "cell_type": "code",
   "execution_count": 26,
   "metadata": {},
   "outputs": [
    {
     "name": "stdout",
     "output_type": "stream",
     "text": [
      "Positional Argument : (1, 3, 5)\n",
      "Keyword Arguments : {'age': 35}\n"
     ]
    }
   ],
   "source": [
    "both(1,3,5,age=35)"
   ]
  },
  {
   "cell_type": "markdown",
   "metadata": {},
   "source": [
    "Normally we can take any number of arguments and send it to another function\n",
    "\n",
    "Note: When using kwargs the data should be in a form of dictionary or atleast have a name keyword"
   ]
  },
  {
   "cell_type": "markdown",
   "metadata": {},
   "source": [
    "## OOP"
   ]
  },
  {
   "cell_type": "markdown",
   "metadata": {},
   "source": [
    "__str__ \n",
    "__repr__\n",
    "@staticmethod\n",
    "@classmethod\n",
    "cls \n",
    "self"
   ]
  },
  {
   "cell_type": "code",
   "execution_count": 31,
   "metadata": {},
   "outputs": [],
   "source": [
    "class Book:\n",
    "    TYPES = ['hardcover','paperback']\n",
    "    def __init__(self,name,book_type,weight):\n",
    "        self.name = name\n",
    "        self.book_type = book_type\n",
    "        self.weight = weight\n",
    "    \n",
    "    def __repr__(self):\n",
    "        return f\"<Book {self.name}, {self.book_type}, weighing {self.weight}g>\"\n",
    "    \n",
    "    @classmethod\n",
    "    def hardcover(cls, name, page_weight):\n",
    "        return cls(name,cls.TYPES[0],page_weight +100)\n",
    "    \n",
    "    @classmethod\n",
    "    def softcover(cls, name, page_weight):\n",
    "        return cls(name,cls.TYPES[1],page_weight)"
   ]
  },
  {
   "cell_type": "code",
   "execution_count": 32,
   "metadata": {},
   "outputs": [
    {
     "name": "stdout",
     "output_type": "stream",
     "text": [
      "<Book Harry Potter, hardcover, weighing 1600g>\n",
      "<Book Python 101, paperback, weighing 600g>\n"
     ]
    }
   ],
   "source": [
    "book = Book.hardcover(\"Harry Potter\",1500)\n",
    "light = Book.softcover(\"Python 101\",600)\n",
    "print(book)\n",
    "print(light)"
   ]
  },
  {
   "cell_type": "markdown",
   "metadata": {},
   "source": [
    "### Inheritance"
   ]
  },
  {
   "cell_type": "code",
   "execution_count": 36,
   "metadata": {},
   "outputs": [],
   "source": [
    "class Device():\n",
    "    \n",
    "    def __init__(self,name,connected_by):\n",
    "        self.name = name\n",
    "        self.connected_by = connected_by\n",
    "        self.connected = True\n",
    "    \n",
    "    def __str__(self):\n",
    "        return f\"Device {self.name!r} ({self.connected_by})\"\n",
    "    \n",
    "    def disconnect(self):\n",
    "        self.connected = False\n",
    "        print(\"Disconnected.\")\n",
    "    "
   ]
  },
  {
   "cell_type": "code",
   "execution_count": 37,
   "metadata": {},
   "outputs": [
    {
     "name": "stdout",
     "output_type": "stream",
     "text": [
      "Device 'Printer' (USB)\n",
      "Disconnected.\n"
     ]
    }
   ],
   "source": [
    "d = Device(\"Printer\",\"USB\")\n",
    "print(d)\n",
    "d.disconnect()"
   ]
  },
  {
   "cell_type": "code",
   "execution_count": 38,
   "metadata": {},
   "outputs": [],
   "source": [
    "class Printer(Device):\n",
    "    \n",
    "    def __init__(self,name,connected_by,capacity):\n",
    "        super().__init__(name,connected_by)\n",
    "        self.capacity = capacity\n",
    "        self.remaining_pages = capacity\n",
    "        \n",
    "    def __str__(self):\n",
    "        return f\"{super().__str__()} ({self.remaining_pages} pages remaining)\"\n",
    "    \n",
    "    def print(self,pages):\n",
    "        if not self.connected:\n",
    "            print(\"Your printer is not connected.\")\n",
    "            return\n",
    "        print(f\"Printing {pages} pages.\")\n",
    "        self.remaining_pages -= pages\n"
   ]
  },
  {
   "cell_type": "code",
   "execution_count": 40,
   "metadata": {},
   "outputs": [
    {
     "name": "stdout",
     "output_type": "stream",
     "text": [
      "Printing 20 pages.\n"
     ]
    }
   ],
   "source": [
    "printer = Printer(\"Printer\",\"USB\",500)\n",
    "printer.print(20)"
   ]
  },
  {
   "cell_type": "code",
   "execution_count": 41,
   "metadata": {},
   "outputs": [
    {
     "name": "stdout",
     "output_type": "stream",
     "text": [
      "Device 'Printer' (USB) (480 pages remaining)\n"
     ]
    }
   ],
   "source": [
    "print(printer)"
   ]
  },
  {
   "cell_type": "code",
   "execution_count": 42,
   "metadata": {},
   "outputs": [
    {
     "name": "stdout",
     "output_type": "stream",
     "text": [
      "Disconnected.\n"
     ]
    }
   ],
   "source": [
    "printer.disconnect()"
   ]
  },
  {
   "cell_type": "code",
   "execution_count": 43,
   "metadata": {},
   "outputs": [
    {
     "name": "stdout",
     "output_type": "stream",
     "text": [
      "Your printer is not connected.\n"
     ]
    }
   ],
   "source": [
    "printer.print(20)"
   ]
  },
  {
   "cell_type": "markdown",
   "metadata": {},
   "source": [
    "### Class Composition "
   ]
  },
  {
   "cell_type": "code",
   "execution_count": 44,
   "metadata": {},
   "outputs": [],
   "source": [
    "class Bookshelf():\n",
    "    def __init__(self,*books):\n",
    "        self.books = books\n",
    "    def __str__(self):\n",
    "        return f\"Bookshelf with {len(self.books)} books.\"\n",
    "    \n",
    "class Book():\n",
    "    def __init__(self,name):\n",
    "        self.name = name\n",
    "    \n",
    "    def __str__(self):\n",
    "        return f\"Book: {self.name}\""
   ]
  },
  {
   "cell_type": "code",
   "execution_count": 45,
   "metadata": {},
   "outputs": [
    {
     "name": "stdout",
     "output_type": "stream",
     "text": [
      "Bookshelf with 2 books.\n"
     ]
    }
   ],
   "source": [
    "book1 = Book(\"Harry Potter\")\n",
    "book2 = Book(\"Python 101\")\n",
    "shelf = Bookshelf(book1,book2)\n",
    "print(shelf)"
   ]
  },
  {
   "cell_type": "markdown",
   "metadata": {},
   "source": [
    "### Type Hinting"
   ]
  },
  {
   "cell_type": "code",
   "execution_count": 46,
   "metadata": {},
   "outputs": [
    {
     "ename": "TypeError",
     "evalue": "'int' object is not iterable",
     "output_type": "error",
     "traceback": [
      "\u001b[0;31m---------------------------------------------------------------------------\u001b[0m",
      "\u001b[0;31mTypeError\u001b[0m                                 Traceback (most recent call last)",
      "\u001b[0;32m<ipython-input-46-87d66fcfd5be>\u001b[0m in \u001b[0;36m<module>\u001b[0;34m\u001b[0m\n\u001b[1;32m      1\u001b[0m \u001b[0;32mdef\u001b[0m \u001b[0mlist_avg\u001b[0m\u001b[0;34m(\u001b[0m\u001b[0mseq\u001b[0m\u001b[0;34m)\u001b[0m\u001b[0;34m:\u001b[0m\u001b[0;34m\u001b[0m\u001b[0;34m\u001b[0m\u001b[0m\n\u001b[1;32m      2\u001b[0m     \u001b[0;32mreturn\u001b[0m \u001b[0msum\u001b[0m\u001b[0;34m(\u001b[0m\u001b[0mseq\u001b[0m\u001b[0;34m)\u001b[0m\u001b[0;34m/\u001b[0m\u001b[0mlen\u001b[0m\u001b[0;34m(\u001b[0m\u001b[0mseq\u001b[0m\u001b[0;34m)\u001b[0m\u001b[0;34m\u001b[0m\u001b[0;34m\u001b[0m\u001b[0m\n\u001b[0;32m----> 3\u001b[0;31m \u001b[0mlist_avg\u001b[0m\u001b[0;34m(\u001b[0m\u001b[0;36m123\u001b[0m\u001b[0;34m)\u001b[0m\u001b[0;34m\u001b[0m\u001b[0;34m\u001b[0m\u001b[0m\n\u001b[0m",
      "\u001b[0;32m<ipython-input-46-87d66fcfd5be>\u001b[0m in \u001b[0;36mlist_avg\u001b[0;34m(seq)\u001b[0m\n\u001b[1;32m      1\u001b[0m \u001b[0;32mdef\u001b[0m \u001b[0mlist_avg\u001b[0m\u001b[0;34m(\u001b[0m\u001b[0mseq\u001b[0m\u001b[0;34m)\u001b[0m\u001b[0;34m:\u001b[0m\u001b[0;34m\u001b[0m\u001b[0;34m\u001b[0m\u001b[0m\n\u001b[0;32m----> 2\u001b[0;31m     \u001b[0;32mreturn\u001b[0m \u001b[0msum\u001b[0m\u001b[0;34m(\u001b[0m\u001b[0mseq\u001b[0m\u001b[0;34m)\u001b[0m\u001b[0;34m/\u001b[0m\u001b[0mlen\u001b[0m\u001b[0;34m(\u001b[0m\u001b[0mseq\u001b[0m\u001b[0;34m)\u001b[0m\u001b[0;34m\u001b[0m\u001b[0;34m\u001b[0m\u001b[0m\n\u001b[0m\u001b[1;32m      3\u001b[0m \u001b[0mlist_avg\u001b[0m\u001b[0;34m(\u001b[0m\u001b[0;36m123\u001b[0m\u001b[0;34m)\u001b[0m\u001b[0;34m\u001b[0m\u001b[0;34m\u001b[0m\u001b[0m\n",
      "\u001b[0;31mTypeError\u001b[0m: 'int' object is not iterable"
     ]
    }
   ],
   "source": [
    "def list_avg(seq):\n",
    "    return sum(seq)/len(seq)\n",
    "list_avg(123)    "
   ]
  },
  {
   "cell_type": "markdown",
   "metadata": {},
   "source": [
    "\"\"\"\n",
    "from typing import List\n",
    "\n",
    "def list_avg(seq: List) -> float:\n",
    "    return sum(seq)/len(seq)\n",
    "list_avg(12)\n",
    "\"\"\"\n",
    "\n",
    "Jupyter supports autocompletion type hinting. Try this in your IDE"
   ]
  },
  {
   "cell_type": "code",
   "execution_count": 51,
   "metadata": {},
   "outputs": [],
   "source": [
    "class Book:\n",
    "    TYPES = ['hardcover','paperback']\n",
    "    def __init__(self,name: str,book_type: str,weight: int):\n",
    "        self.name = name\n",
    "        self.book_type = book_type\n",
    "        self.weight = weight\n",
    "    \n",
    "    def __repr__(self)-> str:\n",
    "        return f\"<Book {self.name}, {self.book_type}, weighing {self.weight}g>\"\n",
    "    \n",
    "    @classmethod\n",
    "    def hardcover(cls, name: str, page_weight: int)-> \"Book\":\n",
    "        return cls(name,cls.TYPES[0],page_weight +100)\n",
    "    \n",
    "    @classmethod\n",
    "    def softcover(cls, name: str, page_weight: int)-> \"Book\":\n",
    "        return cls(name,cls.TYPES[1],page_weight)"
   ]
  },
  {
   "cell_type": "markdown",
   "metadata": {},
   "source": [
    "## Import \n"
   ]
  },
  {
   "cell_type": "code",
   "execution_count": 53,
   "metadata": {},
   "outputs": [
    {
     "name": "stdout",
     "output_type": "stream",
     "text": [
      "['/Users/adityavyas/Desktop/explore_coding/Flask', '/Users/adityavyas/anaconda3/lib/python37.zip', '/Users/adityavyas/anaconda3/lib/python3.7', '/Users/adityavyas/anaconda3/lib/python3.7/lib-dynload', '', '/Users/adityavyas/anaconda3/lib/python3.7/site-packages', '/Users/adityavyas/anaconda3/lib/python3.7/site-packages/aeosa', '/Users/adityavyas/anaconda3/lib/python3.7/site-packages/IPython/extensions', '/Users/adityavyas/.ipython']\n"
     ]
    }
   ],
   "source": [
    "import sys\n",
    "print(sys.path)"
   ]
  },
  {
   "cell_type": "code",
   "execution_count": 55,
   "metadata": {},
   "outputs": [],
   "source": [
    "#!export PYTHONPATH=\"\""
   ]
  },
  {
   "cell_type": "code",
   "execution_count": 56,
   "metadata": {},
   "outputs": [
    {
     "data": {
      "text/plain": [
       "{'sys': <module 'sys' (built-in)>,\n",
       " 'builtins': <module 'builtins' (built-in)>,\n",
       " '_frozen_importlib': <module 'importlib._bootstrap' (frozen)>,\n",
       " '_imp': <module '_imp' (built-in)>,\n",
       " '_thread': <module '_thread' (built-in)>,\n",
       " '_warnings': <module '_warnings' (built-in)>,\n",
       " '_weakref': <module '_weakref' (built-in)>,\n",
       " 'zipimport': <module 'zipimport' (built-in)>,\n",
       " '_frozen_importlib_external': <module 'importlib._bootstrap_external' (frozen)>,\n",
       " '_io': <module 'io' (built-in)>,\n",
       " 'marshal': <module 'marshal' (built-in)>,\n",
       " 'posix': <module 'posix' (built-in)>,\n",
       " 'encodings': <module 'encodings' from '/Users/adityavyas/anaconda3/lib/python3.7/encodings/__init__.py'>,\n",
       " 'codecs': <module 'codecs' from '/Users/adityavyas/anaconda3/lib/python3.7/codecs.py'>,\n",
       " '_codecs': <module '_codecs' (built-in)>,\n",
       " 'encodings.aliases': <module 'encodings.aliases' from '/Users/adityavyas/anaconda3/lib/python3.7/encodings/aliases.py'>,\n",
       " 'encodings.utf_8': <module 'encodings.utf_8' from '/Users/adityavyas/anaconda3/lib/python3.7/encodings/utf_8.py'>,\n",
       " '_signal': <module '_signal' (built-in)>,\n",
       " '__main__': <module '__main__'>,\n",
       " 'encodings.latin_1': <module 'encodings.latin_1' from '/Users/adityavyas/anaconda3/lib/python3.7/encodings/latin_1.py'>,\n",
       " 'io': <module 'io' from '/Users/adityavyas/anaconda3/lib/python3.7/io.py'>,\n",
       " 'abc': <module 'abc' from '/Users/adityavyas/anaconda3/lib/python3.7/abc.py'>,\n",
       " '_abc': <module '_abc' (built-in)>,\n",
       " '_bootlocale': <module '_bootlocale' from '/Users/adityavyas/anaconda3/lib/python3.7/_bootlocale.py'>,\n",
       " '_locale': <module '_locale' (built-in)>,\n",
       " 'site': <module 'site' from '/Users/adityavyas/anaconda3/lib/python3.7/site.py'>,\n",
       " 'os': <module 'os' from '/Users/adityavyas/anaconda3/lib/python3.7/os.py'>,\n",
       " 'stat': <module 'stat' from '/Users/adityavyas/anaconda3/lib/python3.7/stat.py'>,\n",
       " '_stat': <module '_stat' (built-in)>,\n",
       " 'posixpath': <module 'posixpath' from '/Users/adityavyas/anaconda3/lib/python3.7/posixpath.py'>,\n",
       " 'genericpath': <module 'genericpath' from '/Users/adityavyas/anaconda3/lib/python3.7/genericpath.py'>,\n",
       " 'os.path': <module 'posixpath' from '/Users/adityavyas/anaconda3/lib/python3.7/posixpath.py'>,\n",
       " '_collections_abc': <module '_collections_abc' from '/Users/adityavyas/anaconda3/lib/python3.7/_collections_abc.py'>,\n",
       " '_sitebuiltins': <module '_sitebuiltins' from '/Users/adityavyas/anaconda3/lib/python3.7/_sitebuiltins.py'>,\n",
       " 'types': <module 'types' from '/Users/adityavyas/anaconda3/lib/python3.7/types.py'>,\n",
       " 'importlib': <module 'importlib' from '/Users/adityavyas/anaconda3/lib/python3.7/importlib/__init__.py'>,\n",
       " 'importlib._bootstrap': <module 'importlib._bootstrap' (frozen)>,\n",
       " 'importlib._bootstrap_external': <module 'importlib._bootstrap_external' (frozen)>,\n",
       " 'warnings': <module 'warnings' from '/Users/adityavyas/anaconda3/lib/python3.7/warnings.py'>,\n",
       " 'importlib.util': <module 'importlib.util' from '/Users/adityavyas/anaconda3/lib/python3.7/importlib/util.py'>,\n",
       " 'importlib.abc': <module 'importlib.abc' from '/Users/adityavyas/anaconda3/lib/python3.7/importlib/abc.py'>,\n",
       " 'importlib.machinery': <module 'importlib.machinery' from '/Users/adityavyas/anaconda3/lib/python3.7/importlib/machinery.py'>,\n",
       " 'contextlib': <module 'contextlib' from '/Users/adityavyas/anaconda3/lib/python3.7/contextlib.py'>,\n",
       " 'collections': <module 'collections' from '/Users/adityavyas/anaconda3/lib/python3.7/collections/__init__.py'>,\n",
       " 'operator': <module 'operator' from '/Users/adityavyas/anaconda3/lib/python3.7/operator.py'>,\n",
       " '_operator': <module '_operator' (built-in)>,\n",
       " 'keyword': <module 'keyword' from '/Users/adityavyas/anaconda3/lib/python3.7/keyword.py'>,\n",
       " 'heapq': <module 'heapq' from '/Users/adityavyas/anaconda3/lib/python3.7/heapq.py'>,\n",
       " '_heapq': <module '_heapq' from '/Users/adityavyas/anaconda3/lib/python3.7/lib-dynload/_heapq.cpython-37m-darwin.so'>,\n",
       " 'itertools': <module 'itertools' (built-in)>,\n",
       " 'reprlib': <module 'reprlib' from '/Users/adityavyas/anaconda3/lib/python3.7/reprlib.py'>,\n",
       " '_collections': <module '_collections' (built-in)>,\n",
       " 'functools': <module 'functools' from '/Users/adityavyas/anaconda3/lib/python3.7/functools.py'>,\n",
       " '_functools': <module '_functools' (built-in)>,\n",
       " 'google': <module 'google' (namespace)>,\n",
       " 'google.cloud': <module 'google.cloud' (namespace)>,\n",
       " 'google.logging': <module 'google.logging' (namespace)>,\n",
       " 'mpl_toolkits': <module 'mpl_toolkits' (namespace)>,\n",
       " 'sphinxcontrib': <module 'sphinxcontrib' from '/Users/adityavyas/anaconda3/lib/python3.7/site-packages/sphinxcontrib/__init__.py'>,\n",
       " 'zope': <module 'zope' from '/Users/adityavyas/anaconda3/lib/python3.7/site-packages/zope/__init__.py'>,\n",
       " 'runpy': <module 'runpy' from '/Users/adityavyas/anaconda3/lib/python3.7/runpy.py'>,\n",
       " 'pkgutil': <module 'pkgutil' from '/Users/adityavyas/anaconda3/lib/python3.7/pkgutil.py'>,\n",
       " 'weakref': <module 'weakref' from '/Users/adityavyas/anaconda3/lib/python3.7/weakref.py'>,\n",
       " '_weakrefset': <module '_weakrefset' from '/Users/adityavyas/anaconda3/lib/python3.7/_weakrefset.py'>,\n",
       " 'ipykernel': <module 'ipykernel' from '/Users/adityavyas/anaconda3/lib/python3.7/site-packages/ipykernel/__init__.py'>,\n",
       " 'ipykernel._version': <module 'ipykernel._version' from '/Users/adityavyas/anaconda3/lib/python3.7/site-packages/ipykernel/_version.py'>,\n",
       " 'ipykernel.connect': <module 'ipykernel.connect' from '/Users/adityavyas/anaconda3/lib/python3.7/site-packages/ipykernel/connect.py'>,\n",
       " '__future__': <module '__future__' from '/Users/adityavyas/anaconda3/lib/python3.7/__future__.py'>,\n",
       " 'json': <module 'json' from '/Users/adityavyas/anaconda3/lib/python3.7/json/__init__.py'>,\n",
       " 'json.decoder': <module 'json.decoder' from '/Users/adityavyas/anaconda3/lib/python3.7/json/decoder.py'>,\n",
       " 're': <module 're' from '/Users/adityavyas/anaconda3/lib/python3.7/re.py'>,\n",
       " 'enum': <module 'enum' from '/Users/adityavyas/anaconda3/lib/python3.7/enum.py'>,\n",
       " 'sre_compile': <module 'sre_compile' from '/Users/adityavyas/anaconda3/lib/python3.7/sre_compile.py'>,\n",
       " '_sre': <module '_sre' (built-in)>,\n",
       " 'sre_parse': <module 'sre_parse' from '/Users/adityavyas/anaconda3/lib/python3.7/sre_parse.py'>,\n",
       " 'sre_constants': <module 'sre_constants' from '/Users/adityavyas/anaconda3/lib/python3.7/sre_constants.py'>,\n",
       " 'copyreg': <module 'copyreg' from '/Users/adityavyas/anaconda3/lib/python3.7/copyreg.py'>,\n",
       " 'json.scanner': <module 'json.scanner' from '/Users/adityavyas/anaconda3/lib/python3.7/json/scanner.py'>,\n",
       " '_json': <module '_json' from '/Users/adityavyas/anaconda3/lib/python3.7/lib-dynload/_json.cpython-37m-darwin.so'>,\n",
       " 'json.encoder': <module 'json.encoder' from '/Users/adityavyas/anaconda3/lib/python3.7/json/encoder.py'>,\n",
       " 'subprocess': <module 'subprocess' from '/Users/adityavyas/anaconda3/lib/python3.7/subprocess.py'>,\n",
       " 'time': <module 'time' (built-in)>,\n",
       " 'signal': <module 'signal' from '/Users/adityavyas/anaconda3/lib/python3.7/signal.py'>,\n",
       " 'errno': <module 'errno' (built-in)>,\n",
       " '_posixsubprocess': <module '_posixsubprocess' from '/Users/adityavyas/anaconda3/lib/python3.7/lib-dynload/_posixsubprocess.cpython-37m-darwin.so'>,\n",
       " 'select': <module 'select' from '/Users/adityavyas/anaconda3/lib/python3.7/lib-dynload/select.cpython-37m-darwin.so'>,\n",
       " 'selectors': <module 'selectors' from '/Users/adityavyas/anaconda3/lib/python3.7/selectors.py'>,\n",
       " 'collections.abc': <module 'collections.abc' from '/Users/adityavyas/anaconda3/lib/python3.7/collections/abc.py'>,\n",
       " 'math': <module 'math' from '/Users/adityavyas/anaconda3/lib/python3.7/lib-dynload/math.cpython-37m-darwin.so'>,\n",
       " 'threading': <module 'threading' from '/Users/adityavyas/anaconda3/lib/python3.7/threading.py'>,\n",
       " 'traceback': <module 'traceback' from '/Users/adityavyas/anaconda3/lib/python3.7/traceback.py'>,\n",
       " 'linecache': <module 'linecache' from '/Users/adityavyas/anaconda3/lib/python3.7/linecache.py'>,\n",
       " 'tokenize': <module 'tokenize' from '/Users/adityavyas/anaconda3/lib/python3.7/tokenize.py'>,\n",
       " 'token': <module 'token' from '/Users/adityavyas/anaconda3/lib/python3.7/token.py'>,\n",
       " 'IPython': <module 'IPython' from '/Users/adityavyas/anaconda3/lib/python3.7/site-packages/IPython/__init__.py'>,\n",
       " 'IPython.core': <module 'IPython.core' from '/Users/adityavyas/anaconda3/lib/python3.7/site-packages/IPython/core/__init__.py'>,\n",
       " 'IPython.core.getipython': <module 'IPython.core.getipython' from '/Users/adityavyas/anaconda3/lib/python3.7/site-packages/IPython/core/getipython.py'>,\n",
       " 'IPython.core.release': <module 'IPython.core.release' from '/Users/adityavyas/anaconda3/lib/python3.7/site-packages/IPython/core/release.py'>,\n",
       " 'IPython.core.application': <module 'IPython.core.application' from '/Users/adityavyas/anaconda3/lib/python3.7/site-packages/IPython/core/application.py'>,\n",
       " 'atexit': <module 'atexit' (built-in)>,\n",
       " 'copy': <module 'copy' from '/Users/adityavyas/anaconda3/lib/python3.7/copy.py'>,\n",
       " 'glob': <module 'glob' from '/Users/adityavyas/anaconda3/lib/python3.7/glob.py'>,\n",
       " 'fnmatch': <module 'fnmatch' from '/Users/adityavyas/anaconda3/lib/python3.7/fnmatch.py'>,\n",
       " 'logging': <module 'logging' from '/Users/adityavyas/anaconda3/lib/python3.7/logging/__init__.py'>,\n",
       " 'string': <module 'string' from '/Users/adityavyas/anaconda3/lib/python3.7/string.py'>,\n",
       " '_string': <module '_string' (built-in)>,\n",
       " 'shutil': <module 'shutil' from '/Users/adityavyas/anaconda3/lib/python3.7/shutil.py'>,\n",
       " 'zlib': <module 'zlib' from '/Users/adityavyas/anaconda3/lib/python3.7/lib-dynload/zlib.cpython-37m-darwin.so'>,\n",
       " 'bz2': <module 'bz2' from '/Users/adityavyas/anaconda3/lib/python3.7/bz2.py'>,\n",
       " '_compression': <module '_compression' from '/Users/adityavyas/anaconda3/lib/python3.7/_compression.py'>,\n",
       " '_bz2': <module '_bz2' from '/Users/adityavyas/anaconda3/lib/python3.7/lib-dynload/_bz2.cpython-37m-darwin.so'>,\n",
       " 'lzma': <module 'lzma' from '/Users/adityavyas/anaconda3/lib/python3.7/lzma.py'>,\n",
       " '_lzma': <module '_lzma' from '/Users/adityavyas/anaconda3/lib/python3.7/lib-dynload/_lzma.cpython-37m-darwin.so'>,\n",
       " 'pwd': <module 'pwd' (built-in)>,\n",
       " 'grp': <module 'grp' from '/Users/adityavyas/anaconda3/lib/python3.7/lib-dynload/grp.cpython-37m-darwin.so'>,\n",
       " 'traitlets': <module 'traitlets' from '/Users/adityavyas/anaconda3/lib/python3.7/site-packages/traitlets/__init__.py'>,\n",
       " 'traitlets.traitlets': <module 'traitlets.traitlets' from '/Users/adityavyas/anaconda3/lib/python3.7/site-packages/traitlets/traitlets.py'>,\n",
       " 'inspect': <module 'inspect' from '/Users/adityavyas/anaconda3/lib/python3.7/inspect.py'>,\n",
       " 'dis': <module 'dis' from '/Users/adityavyas/anaconda3/lib/python3.7/dis.py'>,\n",
       " 'opcode': <module 'opcode' from '/Users/adityavyas/anaconda3/lib/python3.7/opcode.py'>,\n",
       " '_opcode': <module '_opcode' from '/Users/adityavyas/anaconda3/lib/python3.7/lib-dynload/_opcode.cpython-37m-darwin.so'>,\n",
       " 'six': <module 'six' from '/Users/adityavyas/anaconda3/lib/python3.7/site-packages/six.py'>,\n",
       " 'struct': <module 'struct' from '/Users/adityavyas/anaconda3/lib/python3.7/struct.py'>,\n",
       " '_struct': <module '_struct' from '/Users/adityavyas/anaconda3/lib/python3.7/lib-dynload/_struct.cpython-37m-darwin.so'>,\n",
       " 'traitlets.utils': <module 'traitlets.utils' from '/Users/adityavyas/anaconda3/lib/python3.7/site-packages/traitlets/utils/__init__.py'>,\n",
       " 'traitlets.utils.getargspec': <module 'traitlets.utils.getargspec' from '/Users/adityavyas/anaconda3/lib/python3.7/site-packages/traitlets/utils/getargspec.py'>,\n",
       " 'traitlets.utils.importstring': <module 'traitlets.utils.importstring' from '/Users/adityavyas/anaconda3/lib/python3.7/site-packages/traitlets/utils/importstring.py'>,\n",
       " 'ipython_genutils': <module 'ipython_genutils' from '/Users/adityavyas/anaconda3/lib/python3.7/site-packages/ipython_genutils/__init__.py'>,\n",
       " 'ipython_genutils._version': <module 'ipython_genutils._version' from '/Users/adityavyas/anaconda3/lib/python3.7/site-packages/ipython_genutils/_version.py'>,\n",
       " 'ipython_genutils.py3compat': <module 'ipython_genutils.py3compat' from '/Users/adityavyas/anaconda3/lib/python3.7/site-packages/ipython_genutils/py3compat.py'>,\n",
       " 'ipython_genutils.encoding': <module 'ipython_genutils.encoding' from '/Users/adityavyas/anaconda3/lib/python3.7/site-packages/ipython_genutils/encoding.py'>,\n",
       " 'locale': <module 'locale' from '/Users/adityavyas/anaconda3/lib/python3.7/locale.py'>,\n",
       " 'platform': <module 'platform' from '/Users/adityavyas/anaconda3/lib/python3.7/platform.py'>,\n",
       " 'traitlets.utils.sentinel': <module 'traitlets.utils.sentinel' from '/Users/adityavyas/anaconda3/lib/python3.7/site-packages/traitlets/utils/sentinel.py'>,\n",
       " 'traitlets.utils.bunch': <module 'traitlets.utils.bunch' from '/Users/adityavyas/anaconda3/lib/python3.7/site-packages/traitlets/utils/bunch.py'>,\n",
       " 'traitlets._version': <module 'traitlets._version' from '/Users/adityavyas/anaconda3/lib/python3.7/site-packages/traitlets/_version.py'>,\n",
       " 'traitlets.config': <module 'traitlets.config' from '/Users/adityavyas/anaconda3/lib/python3.7/site-packages/traitlets/config/__init__.py'>,\n",
       " 'traitlets.config.application': <module 'traitlets.config.application' from '/Users/adityavyas/anaconda3/lib/python3.7/site-packages/traitlets/config/application.py'>,\n",
       " 'decorator': <module 'decorator' from '/Users/adityavyas/anaconda3/lib/python3.7/site-packages/decorator.py'>,\n",
       " 'traitlets.config.configurable': <module 'traitlets.config.configurable' from '/Users/adityavyas/anaconda3/lib/python3.7/site-packages/traitlets/config/configurable.py'>,\n",
       " 'traitlets.config.loader': <module 'traitlets.config.loader' from '/Users/adityavyas/anaconda3/lib/python3.7/site-packages/traitlets/config/loader.py'>,\n",
       " 'argparse': <module 'argparse' from '/Users/adityavyas/anaconda3/lib/python3.7/argparse.py'>,\n",
       " 'gettext': <module 'gettext' from '/Users/adityavyas/anaconda3/lib/python3.7/gettext.py'>,\n",
       " 'ast': <module 'ast' from '/Users/adityavyas/anaconda3/lib/python3.7/ast.py'>,\n",
       " '_ast': <module '_ast' (built-in)>,\n",
       " 'ipython_genutils.path': <module 'ipython_genutils.path' from '/Users/adityavyas/anaconda3/lib/python3.7/site-packages/ipython_genutils/path.py'>,\n",
       " 'random': <module 'random' from '/Users/adityavyas/anaconda3/lib/python3.7/random.py'>,\n",
       " 'hashlib': <module 'hashlib' from '/Users/adityavyas/anaconda3/lib/python3.7/hashlib.py'>,\n",
       " '_hashlib': <module '_hashlib' from '/Users/adityavyas/anaconda3/lib/python3.7/lib-dynload/_hashlib.cpython-37m-darwin.so'>,\n",
       " '_blake2': <module '_blake2' from '/Users/adityavyas/anaconda3/lib/python3.7/lib-dynload/_blake2.cpython-37m-darwin.so'>,\n",
       " '_sha3': <module '_sha3' from '/Users/adityavyas/anaconda3/lib/python3.7/lib-dynload/_sha3.cpython-37m-darwin.so'>,\n",
       " 'bisect': <module 'bisect' from '/Users/adityavyas/anaconda3/lib/python3.7/bisect.py'>,\n",
       " '_bisect': <module '_bisect' from '/Users/adityavyas/anaconda3/lib/python3.7/lib-dynload/_bisect.cpython-37m-darwin.so'>,\n",
       " '_random': <module '_random' from '/Users/adityavyas/anaconda3/lib/python3.7/lib-dynload/_random.cpython-37m-darwin.so'>,\n",
       " 'ipython_genutils.text': <module 'ipython_genutils.text' from '/Users/adityavyas/anaconda3/lib/python3.7/site-packages/ipython_genutils/text.py'>,\n",
       " 'textwrap': <module 'textwrap' from '/Users/adityavyas/anaconda3/lib/python3.7/textwrap.py'>,\n",
       " 'ipython_genutils.importstring': <module 'ipython_genutils.importstring' from '/Users/adityavyas/anaconda3/lib/python3.7/site-packages/ipython_genutils/importstring.py'>,\n",
       " 'IPython.core.crashhandler': <module 'IPython.core.crashhandler' from '/Users/adityavyas/anaconda3/lib/python3.7/site-packages/IPython/core/crashhandler.py'>,\n",
       " 'pprint': <module 'pprint' from '/Users/adityavyas/anaconda3/lib/python3.7/pprint.py'>,\n",
       " 'IPython.core.ultratb': <module 'IPython.core.ultratb' from '/Users/adityavyas/anaconda3/lib/python3.7/site-packages/IPython/core/ultratb.py'>,\n",
       " 'pydoc': <module 'pydoc' from '/Users/adityavyas/anaconda3/lib/python3.7/pydoc.py'>,\n",
       " 'urllib': <module 'urllib' from '/Users/adityavyas/anaconda3/lib/python3.7/urllib/__init__.py'>,\n",
       " 'urllib.parse': <module 'urllib.parse' from '/Users/adityavyas/anaconda3/lib/python3.7/urllib/parse.py'>,\n",
       " 'IPython.core.debugger': <module 'IPython.core.debugger' from '/Users/adityavyas/anaconda3/lib/python3.7/site-packages/IPython/core/debugger.py'>,\n",
       " 'bdb': <module 'bdb' from '/Users/adityavyas/anaconda3/lib/python3.7/bdb.py'>,\n",
       " 'IPython.utils': <module 'IPython.utils' from '/Users/adityavyas/anaconda3/lib/python3.7/site-packages/IPython/utils/__init__.py'>,\n",
       " 'IPython.utils.PyColorize': <module 'IPython.utils.PyColorize' from '/Users/adityavyas/anaconda3/lib/python3.7/site-packages/IPython/utils/PyColorize.py'>,\n",
       " 'IPython.utils.coloransi': <module 'IPython.utils.coloransi' from '/Users/adityavyas/anaconda3/lib/python3.7/site-packages/IPython/utils/coloransi.py'>,\n",
       " 'IPython.utils.ipstruct': <module 'IPython.utils.ipstruct' from '/Users/adityavyas/anaconda3/lib/python3.7/site-packages/IPython/utils/ipstruct.py'>,\n",
       " 'IPython.utils.colorable': <module 'IPython.utils.colorable' from '/Users/adityavyas/anaconda3/lib/python3.7/site-packages/IPython/utils/colorable.py'>,\n",
       " 'pygments': <module 'pygments' from '/Users/adityavyas/anaconda3/lib/python3.7/site-packages/pygments/__init__.py'>,\n",
       " 'IPython.utils.py3compat': <module 'IPython.utils.py3compat' from '/Users/adityavyas/anaconda3/lib/python3.7/site-packages/IPython/utils/py3compat.py'>,\n",
       " 'IPython.utils.encoding': <module 'IPython.utils.encoding' from '/Users/adityavyas/anaconda3/lib/python3.7/site-packages/IPython/utils/encoding.py'>,\n",
       " 'IPython.core.excolors': <module 'IPython.core.excolors' from '/Users/adityavyas/anaconda3/lib/python3.7/site-packages/IPython/core/excolors.py'>,\n",
       " 'IPython.testing': <module 'IPython.testing' from '/Users/adityavyas/anaconda3/lib/python3.7/site-packages/IPython/testing/__init__.py'>,\n",
       " 'IPython.testing.skipdoctest': <module 'IPython.testing.skipdoctest' from '/Users/adityavyas/anaconda3/lib/python3.7/site-packages/IPython/testing/skipdoctest.py'>,\n",
       " 'pdb': <module 'pdb' from '/Users/adityavyas/anaconda3/lib/python3.7/pdb.py'>,\n",
       " 'cmd': <module 'cmd' from '/Users/adityavyas/anaconda3/lib/python3.7/cmd.py'>,\n",
       " 'code': <module 'code' from '/Users/adityavyas/anaconda3/lib/python3.7/code.py'>,\n",
       " 'codeop': <module 'codeop' from '/Users/adityavyas/anaconda3/lib/python3.7/codeop.py'>,\n",
       " 'IPython.core.display_trap': <module 'IPython.core.display_trap' from '/Users/adityavyas/anaconda3/lib/python3.7/site-packages/IPython/core/display_trap.py'>,\n",
       " 'IPython.utils.path': <module 'IPython.utils.path' from '/Users/adityavyas/anaconda3/lib/python3.7/site-packages/IPython/utils/path.py'>,\n",
       " 'IPython.utils.process': <module 'IPython.utils.process' from '/Users/adityavyas/anaconda3/lib/python3.7/site-packages/IPython/utils/process.py'>,\n",
       " 'IPython.utils._process_posix': <module 'IPython.utils._process_posix' from '/Users/adityavyas/anaconda3/lib/python3.7/site-packages/IPython/utils/_process_posix.py'>,\n",
       " 'pexpect': <module 'pexpect' from '/Users/adityavyas/anaconda3/lib/python3.7/site-packages/pexpect/__init__.py'>,\n",
       " 'pexpect.exceptions': <module 'pexpect.exceptions' from '/Users/adityavyas/anaconda3/lib/python3.7/site-packages/pexpect/exceptions.py'>,\n",
       " 'pexpect.utils': <module 'pexpect.utils' from '/Users/adityavyas/anaconda3/lib/python3.7/site-packages/pexpect/utils.py'>,\n",
       " 'pexpect.expect': <module 'pexpect.expect' from '/Users/adityavyas/anaconda3/lib/python3.7/site-packages/pexpect/expect.py'>,\n",
       " 'pexpect.pty_spawn': <module 'pexpect.pty_spawn' from '/Users/adityavyas/anaconda3/lib/python3.7/site-packages/pexpect/pty_spawn.py'>,\n",
       " 'pty': <module 'pty' from '/Users/adityavyas/anaconda3/lib/python3.7/pty.py'>,\n",
       " 'tty': <module 'tty' from '/Users/adityavyas/anaconda3/lib/python3.7/tty.py'>,\n",
       " 'termios': <module 'termios' from '/Users/adityavyas/anaconda3/lib/python3.7/lib-dynload/termios.cpython-37m-darwin.so'>,\n",
       " 'ptyprocess': <module 'ptyprocess' from '/Users/adityavyas/anaconda3/lib/python3.7/site-packages/ptyprocess/__init__.py'>,\n",
       " 'ptyprocess.ptyprocess': <module 'ptyprocess.ptyprocess' from '/Users/adityavyas/anaconda3/lib/python3.7/site-packages/ptyprocess/ptyprocess.py'>,\n",
       " 'fcntl': <module 'fcntl' from '/Users/adityavyas/anaconda3/lib/python3.7/lib-dynload/fcntl.cpython-37m-darwin.so'>,\n",
       " 'resource': <module 'resource' from '/Users/adityavyas/anaconda3/lib/python3.7/lib-dynload/resource.cpython-37m-darwin.so'>,\n",
       " 'ptyprocess.util': <module 'ptyprocess.util' from '/Users/adityavyas/anaconda3/lib/python3.7/site-packages/ptyprocess/util.py'>,\n",
       " 'pexpect.spawnbase': <module 'pexpect.spawnbase' from '/Users/adityavyas/anaconda3/lib/python3.7/site-packages/pexpect/spawnbase.py'>,\n",
       " 'pexpect.run': <module 'pexpect.run' from '/Users/adityavyas/anaconda3/lib/python3.7/site-packages/pexpect/run.py'>,\n",
       " 'IPython.utils._process_common': <module 'IPython.utils._process_common' from '/Users/adityavyas/anaconda3/lib/python3.7/site-packages/IPython/utils/_process_common.py'>,\n",
       " 'shlex': <module 'shlex' from '/Users/adityavyas/anaconda3/lib/python3.7/shlex.py'>,\n",
       " 'IPython.utils.decorators': <module 'IPython.utils.decorators' from '/Users/adityavyas/anaconda3/lib/python3.7/site-packages/IPython/utils/decorators.py'>,\n",
       " 'IPython.utils.data': <module 'IPython.utils.data' from '/Users/adityavyas/anaconda3/lib/python3.7/site-packages/IPython/utils/data.py'>,\n",
       " 'IPython.utils.terminal': <module 'IPython.utils.terminal' from '/Users/adityavyas/anaconda3/lib/python3.7/site-packages/IPython/utils/terminal.py'>,\n",
       " 'IPython.utils.sysinfo': <module 'IPython.utils.sysinfo' from '/Users/adityavyas/anaconda3/lib/python3.7/site-packages/IPython/utils/sysinfo.py'>,\n",
       " 'IPython.utils._sysinfo': <module 'IPython.utils._sysinfo' from '/Users/adityavyas/anaconda3/lib/python3.7/site-packages/IPython/utils/_sysinfo.py'>,\n",
       " 'IPython.core.profiledir': <module 'IPython.core.profiledir' from '/Users/adityavyas/anaconda3/lib/python3.7/site-packages/IPython/core/profiledir.py'>,\n",
       " 'IPython.paths': <module 'IPython.paths' from '/Users/adityavyas/anaconda3/lib/python3.7/site-packages/IPython/paths.py'>,\n",
       " 'tempfile': <module 'tempfile' from '/Users/adityavyas/anaconda3/lib/python3.7/tempfile.py'>,\n",
       " 'IPython.utils.importstring': <module 'IPython.utils.importstring' from '/Users/adityavyas/anaconda3/lib/python3.7/site-packages/IPython/utils/importstring.py'>,\n",
       " 'IPython.terminal': <module 'IPython.terminal' from '/Users/adityavyas/anaconda3/lib/python3.7/site-packages/IPython/terminal/__init__.py'>,\n",
       " 'IPython.terminal.embed': <module 'IPython.terminal.embed' from '/Users/adityavyas/anaconda3/lib/python3.7/site-packages/IPython/terminal/embed.py'>,\n",
       " 'IPython.core.compilerop': <module 'IPython.core.compilerop' from '/Users/adityavyas/anaconda3/lib/python3.7/site-packages/IPython/core/compilerop.py'>,\n",
       " 'IPython.core.magic_arguments': <module 'IPython.core.magic_arguments' from '/Users/adityavyas/anaconda3/lib/python3.7/site-packages/IPython/core/magic_arguments.py'>,\n",
       " 'IPython.core.error': <module 'IPython.core.error' from '/Users/adityavyas/anaconda3/lib/python3.7/site-packages/IPython/core/error.py'>,\n",
       " 'IPython.utils.text': <module 'IPython.utils.text' from '/Users/adityavyas/anaconda3/lib/python3.7/site-packages/IPython/utils/text.py'>,\n",
       " 'pathlib': <module 'pathlib' from '/Users/adityavyas/anaconda3/lib/python3.7/pathlib.py'>,\n",
       " 'ntpath': <module 'ntpath' from '/Users/adityavyas/anaconda3/lib/python3.7/ntpath.py'>,\n",
       " 'IPython.core.magic': <module 'IPython.core.magic' from '/Users/adityavyas/anaconda3/lib/python3.7/site-packages/IPython/core/magic.py'>,\n",
       " 'getopt': <module 'getopt' from '/Users/adityavyas/anaconda3/lib/python3.7/getopt.py'>,\n",
       " 'IPython.core.oinspect': <module 'IPython.core.oinspect' from '/Users/adityavyas/anaconda3/lib/python3.7/site-packages/IPython/core/oinspect.py'>,\n",
       " 'typing': <module 'typing' from '/Users/adityavyas/anaconda3/lib/python3.7/typing.py'>,\n",
       " 'typing.io': typing.io,\n",
       " 'typing.re': typing.re,\n",
       " 'IPython.core.page': <module 'IPython.core.page' from '/Users/adityavyas/anaconda3/lib/python3.7/site-packages/IPython/core/page.py'>,\n",
       " 'IPython.core.display': <module 'IPython.core.display' from '/Users/adityavyas/anaconda3/lib/python3.7/site-packages/IPython/core/display.py'>,\n",
       " 'binascii': <module 'binascii' from '/Users/adityavyas/anaconda3/lib/python3.7/lib-dynload/binascii.cpython-37m-darwin.so'>,\n",
       " 'mimetypes': <module 'mimetypes' from '/Users/adityavyas/anaconda3/lib/python3.7/mimetypes.py'>,\n",
       " 'IPython.lib': <module 'IPython.lib' from '/Users/adityavyas/anaconda3/lib/python3.7/site-packages/IPython/lib/__init__.py'>,\n",
       " 'IPython.lib.security': <module 'IPython.lib.security' from '/Users/adityavyas/anaconda3/lib/python3.7/site-packages/IPython/lib/security.py'>,\n",
       " 'getpass': <module 'getpass' from '/Users/adityavyas/anaconda3/lib/python3.7/getpass.py'>,\n",
       " 'IPython.lib.pretty': <module 'IPython.lib.pretty' from '/Users/adityavyas/anaconda3/lib/python3.7/site-packages/IPython/lib/pretty.py'>,\n",
       " 'datetime': <module 'datetime' from '/Users/adityavyas/anaconda3/lib/python3.7/datetime.py'>,\n",
       " '_datetime': <module '_datetime' from '/Users/adityavyas/anaconda3/lib/python3.7/lib-dynload/_datetime.cpython-37m-darwin.so'>,\n",
       " 'IPython.utils.openpy': <module 'IPython.utils.openpy' from '/Users/adityavyas/anaconda3/lib/python3.7/site-packages/IPython/utils/openpy.py'>,\n",
       " 'IPython.utils.dir2': <module 'IPython.utils.dir2' from '/Users/adityavyas/anaconda3/lib/python3.7/site-packages/IPython/utils/dir2.py'>,\n",
       " 'IPython.utils.wildcard': <module 'IPython.utils.wildcard' from '/Users/adityavyas/anaconda3/lib/python3.7/site-packages/IPython/utils/wildcard.py'>,\n",
       " 'pygments.lexers': <module 'pygments.lexers' from '/Users/adityavyas/anaconda3/lib/python3.7/site-packages/pygments/lexers/__init__.py'>,\n",
       " 'pygments.lexers._mapping': <module 'pygments.lexers._mapping' from '/Users/adityavyas/anaconda3/lib/python3.7/site-packages/pygments/lexers/_mapping.py'>,\n",
       " 'pygments.modeline': <module 'pygments.modeline' from '/Users/adityavyas/anaconda3/lib/python3.7/site-packages/pygments/modeline.py'>,\n",
       " 'pygments.plugin': <module 'pygments.plugin' from '/Users/adityavyas/anaconda3/lib/python3.7/site-packages/pygments/plugin.py'>,\n",
       " 'pygments.util': <module 'pygments.util' from '/Users/adityavyas/anaconda3/lib/python3.7/site-packages/pygments/util.py'>,\n",
       " 'pygments.lexers.python': <module 'pygments.lexers.python' from '/Users/adityavyas/anaconda3/lib/python3.7/site-packages/pygments/lexers/python.py'>,\n",
       " 'pygments.lexer': <module 'pygments.lexer' from '/Users/adityavyas/anaconda3/lib/python3.7/site-packages/pygments/lexer.py'>,\n",
       " 'pygments.filter': <module 'pygments.filter' from '/Users/adityavyas/anaconda3/lib/python3.7/site-packages/pygments/filter.py'>,\n",
       " 'pygments.filters': <module 'pygments.filters' from '/Users/adityavyas/anaconda3/lib/python3.7/site-packages/pygments/filters/__init__.py'>,\n",
       " 'pygments.token': <module 'pygments.token' from '/Users/adityavyas/anaconda3/lib/python3.7/site-packages/pygments/token.py'>,\n",
       " 'pygments.regexopt': <module 'pygments.regexopt' from '/Users/adityavyas/anaconda3/lib/python3.7/site-packages/pygments/regexopt.py'>,\n",
       " 'pygments.unistring': <module 'pygments.unistring' from '/Users/adityavyas/anaconda3/lib/python3.7/site-packages/pygments/unistring.py'>,\n",
       " 'pygments.formatters': <module 'pygments.formatters' from '/Users/adityavyas/anaconda3/lib/python3.7/site-packages/pygments/formatters/__init__.py'>,\n",
       " 'pygments.formatters._mapping': <module 'pygments.formatters._mapping' from '/Users/adityavyas/anaconda3/lib/python3.7/site-packages/pygments/formatters/_mapping.py'>,\n",
       " 'pygments.formatters.html': <module 'pygments.formatters.html' from '/Users/adityavyas/anaconda3/lib/python3.7/site-packages/pygments/formatters/html.py'>,\n",
       " 'pygments.formatter': <module 'pygments.formatter' from '/Users/adityavyas/anaconda3/lib/python3.7/site-packages/pygments/formatter.py'>,\n",
       " 'pygments.styles': <module 'pygments.styles' from '/Users/adityavyas/anaconda3/lib/python3.7/site-packages/pygments/styles/__init__.py'>,\n",
       " 'IPython.core.inputtransformer2': <module 'IPython.core.inputtransformer2' from '/Users/adityavyas/anaconda3/lib/python3.7/site-packages/IPython/core/inputtransformer2.py'>,\n",
       " 'IPython.core.interactiveshell': <module 'IPython.core.interactiveshell' from '/Users/adityavyas/anaconda3/lib/python3.7/site-packages/IPython/core/interactiveshell.py'>,\n",
       " 'pickleshare': <module 'pickleshare' from '/Users/adityavyas/anaconda3/lib/python3.7/site-packages/pickleshare.py'>,\n",
       " 'pickle': <module 'pickle' from '/Users/adityavyas/anaconda3/lib/python3.7/pickle.py'>,\n",
       " '_compat_pickle': <module '_compat_pickle' from '/Users/adityavyas/anaconda3/lib/python3.7/_compat_pickle.py'>,\n",
       " '_pickle': <module '_pickle' from '/Users/adityavyas/anaconda3/lib/python3.7/lib-dynload/_pickle.cpython-37m-darwin.so'>,\n",
       " 'IPython.core.prefilter': <module 'IPython.core.prefilter' from '/Users/adityavyas/anaconda3/lib/python3.7/site-packages/IPython/core/prefilter.py'>,\n",
       " 'IPython.core.autocall': <module 'IPython.core.autocall' from '/Users/adityavyas/anaconda3/lib/python3.7/site-packages/IPython/core/autocall.py'>,\n",
       " 'IPython.core.macro': <module 'IPython.core.macro' from '/Users/adityavyas/anaconda3/lib/python3.7/site-packages/IPython/core/macro.py'>,\n",
       " 'IPython.core.splitinput': <module 'IPython.core.splitinput' from '/Users/adityavyas/anaconda3/lib/python3.7/site-packages/IPython/core/splitinput.py'>,\n",
       " 'IPython.core.alias': <module 'IPython.core.alias' from '/Users/adityavyas/anaconda3/lib/python3.7/site-packages/IPython/core/alias.py'>,\n",
       " 'IPython.core.builtin_trap': <module 'IPython.core.builtin_trap' from '/Users/adityavyas/anaconda3/lib/python3.7/site-packages/IPython/core/builtin_trap.py'>,\n",
       " 'IPython.core.events': <module 'IPython.core.events' from '/Users/adityavyas/anaconda3/lib/python3.7/site-packages/IPython/core/events.py'>,\n",
       " 'backcall': <module 'backcall' from '/Users/adityavyas/anaconda3/lib/python3.7/site-packages/backcall/__init__.py'>,\n",
       " 'backcall.backcall': <module 'backcall.backcall' from '/Users/adityavyas/anaconda3/lib/python3.7/site-packages/backcall/backcall.py'>,\n",
       " 'IPython.core.displayhook': <module 'IPython.core.displayhook' from '/Users/adityavyas/anaconda3/lib/python3.7/site-packages/IPython/core/displayhook.py'>,\n",
       " 'IPython.core.displaypub': <module 'IPython.core.displaypub' from '/Users/adityavyas/anaconda3/lib/python3.7/site-packages/IPython/core/displaypub.py'>,\n",
       " 'IPython.core.extensions': <module 'IPython.core.extensions' from '/Users/adityavyas/anaconda3/lib/python3.7/site-packages/IPython/core/extensions.py'>,\n",
       " 'IPython.core.formatters': <module 'IPython.core.formatters' from '/Users/adityavyas/anaconda3/lib/python3.7/site-packages/IPython/core/formatters.py'>,\n",
       " 'IPython.utils.sentinel': <module 'IPython.utils.sentinel' from '/Users/adityavyas/anaconda3/lib/python3.7/site-packages/IPython/utils/sentinel.py'>,\n",
       " 'IPython.core.history': <module 'IPython.core.history' from '/Users/adityavyas/anaconda3/lib/python3.7/site-packages/IPython/core/history.py'>,\n",
       " 'sqlite3': <module 'sqlite3' from '/Users/adityavyas/anaconda3/lib/python3.7/sqlite3/__init__.py'>,\n",
       " 'sqlite3.dbapi2': <module 'sqlite3.dbapi2' from '/Users/adityavyas/anaconda3/lib/python3.7/sqlite3/dbapi2.py'>,\n",
       " '_sqlite3': <module '_sqlite3' from '/Users/adityavyas/anaconda3/lib/python3.7/lib-dynload/_sqlite3.cpython-37m-darwin.so'>,\n",
       " 'IPython.core.logger': <module 'IPython.core.logger' from '/Users/adityavyas/anaconda3/lib/python3.7/site-packages/IPython/core/logger.py'>,\n",
       " 'IPython.core.payload': <module 'IPython.core.payload' from '/Users/adityavyas/anaconda3/lib/python3.7/site-packages/IPython/core/payload.py'>,\n",
       " 'IPython.core.usage': <module 'IPython.core.usage' from '/Users/adityavyas/anaconda3/lib/python3.7/site-packages/IPython/core/usage.py'>,\n",
       " 'IPython.display': <module 'IPython.display' from '/Users/adityavyas/anaconda3/lib/python3.7/site-packages/IPython/display.py'>,\n",
       " 'IPython.lib.display': <module 'IPython.lib.display' from '/Users/adityavyas/anaconda3/lib/python3.7/site-packages/IPython/lib/display.py'>,\n",
       " 'html': <module 'html' from '/Users/adityavyas/anaconda3/lib/python3.7/html/__init__.py'>,\n",
       " 'html.entities': <module 'html.entities' from '/Users/adityavyas/anaconda3/lib/python3.7/html/entities.py'>,\n",
       " 'IPython.utils.io': <module 'IPython.utils.io' from '/Users/adityavyas/anaconda3/lib/python3.7/site-packages/IPython/utils/io.py'>,\n",
       " 'IPython.utils.capture': <module 'IPython.utils.capture' from '/Users/adityavyas/anaconda3/lib/python3.7/site-packages/IPython/utils/capture.py'>,\n",
       " 'IPython.utils.strdispatch': <module 'IPython.utils.strdispatch' from '/Users/adityavyas/anaconda3/lib/python3.7/site-packages/IPython/utils/strdispatch.py'>,\n",
       " 'IPython.core.hooks': <module 'IPython.core.hooks' from '/Users/adityavyas/anaconda3/lib/python3.7/site-packages/IPython/core/hooks.py'>,\n",
       " 'IPython.utils.syspathcontext': <module 'IPython.utils.syspathcontext' from '/Users/adityavyas/anaconda3/lib/python3.7/site-packages/IPython/utils/syspathcontext.py'>,\n",
       " 'IPython.utils.tempdir': <module 'IPython.utils.tempdir' from '/Users/adityavyas/anaconda3/lib/python3.7/site-packages/IPython/utils/tempdir.py'>,\n",
       " 'IPython.utils.contexts': <module 'IPython.utils.contexts' from '/Users/adityavyas/anaconda3/lib/python3.7/site-packages/IPython/utils/contexts.py'>,\n",
       " 'IPython.core.async_helpers': <module 'IPython.core.async_helpers' from '/Users/adityavyas/anaconda3/lib/python3.7/site-packages/IPython/core/async_helpers.py'>,\n",
       " 'IPython.terminal.interactiveshell': <module 'IPython.terminal.interactiveshell' from '/Users/adityavyas/anaconda3/lib/python3.7/site-packages/IPython/terminal/interactiveshell.py'>,\n",
       " 'asyncio': <module 'asyncio' from '/Users/adityavyas/anaconda3/lib/python3.7/asyncio/__init__.py'>,\n",
       " 'asyncio.base_events': <module 'asyncio.base_events' from '/Users/adityavyas/anaconda3/lib/python3.7/asyncio/base_events.py'>,\n",
       " 'concurrent': <module 'concurrent' from '/Users/adityavyas/anaconda3/lib/python3.7/concurrent/__init__.py'>,\n",
       " 'concurrent.futures': <module 'concurrent.futures' from '/Users/adityavyas/anaconda3/lib/python3.7/concurrent/futures/__init__.py'>,\n",
       " 'concurrent.futures._base': <module 'concurrent.futures._base' from '/Users/adityavyas/anaconda3/lib/python3.7/concurrent/futures/_base.py'>,\n",
       " 'socket': <module 'socket' from '/Users/adityavyas/anaconda3/lib/python3.7/socket.py'>,\n",
       " '_socket': <module '_socket' from '/Users/adityavyas/anaconda3/lib/python3.7/lib-dynload/_socket.cpython-37m-darwin.so'>,\n",
       " 'ssl': <module 'ssl' from '/Users/adityavyas/anaconda3/lib/python3.7/ssl.py'>,\n",
       " '_ssl': <module '_ssl' from '/Users/adityavyas/anaconda3/lib/python3.7/lib-dynload/_ssl.cpython-37m-darwin.so'>,\n",
       " 'base64': <module 'base64' from '/Users/adityavyas/anaconda3/lib/python3.7/base64.py'>,\n",
       " 'asyncio.constants': <module 'asyncio.constants' from '/Users/adityavyas/anaconda3/lib/python3.7/asyncio/constants.py'>,\n",
       " 'asyncio.coroutines': <module 'asyncio.coroutines' from '/Users/adityavyas/anaconda3/lib/python3.7/asyncio/coroutines.py'>,\n",
       " 'asyncio.base_futures': <module 'asyncio.base_futures' from '/Users/adityavyas/anaconda3/lib/python3.7/asyncio/base_futures.py'>,\n",
       " 'asyncio.format_helpers': <module 'asyncio.format_helpers' from '/Users/adityavyas/anaconda3/lib/python3.7/asyncio/format_helpers.py'>,\n",
       " 'asyncio.log': <module 'asyncio.log' from '/Users/adityavyas/anaconda3/lib/python3.7/asyncio/log.py'>,\n",
       " 'asyncio.events': <module 'asyncio.events' from '/Users/adityavyas/anaconda3/lib/python3.7/asyncio/events.py'>,\n",
       " 'contextvars': <module 'contextvars' from '/Users/adityavyas/anaconda3/lib/python3.7/contextvars.py'>,\n",
       " '_contextvars': <module '_contextvars' from '/Users/adityavyas/anaconda3/lib/python3.7/lib-dynload/_contextvars.cpython-37m-darwin.so'>,\n",
       " 'asyncio.base_tasks': <module 'asyncio.base_tasks' from '/Users/adityavyas/anaconda3/lib/python3.7/asyncio/base_tasks.py'>,\n",
       " '_asyncio': <module '_asyncio' from '/Users/adityavyas/anaconda3/lib/python3.7/lib-dynload/_asyncio.cpython-37m-darwin.so'>,\n",
       " 'asyncio.futures': <module 'asyncio.futures' from '/Users/adityavyas/anaconda3/lib/python3.7/asyncio/futures.py'>,\n",
       " 'asyncio.protocols': <module 'asyncio.protocols' from '/Users/adityavyas/anaconda3/lib/python3.7/asyncio/protocols.py'>,\n",
       " 'asyncio.sslproto': <module 'asyncio.sslproto' from '/Users/adityavyas/anaconda3/lib/python3.7/asyncio/sslproto.py'>,\n",
       " 'asyncio.transports': <module 'asyncio.transports' from '/Users/adityavyas/anaconda3/lib/python3.7/asyncio/transports.py'>,\n",
       " 'asyncio.tasks': <module 'asyncio.tasks' from '/Users/adityavyas/anaconda3/lib/python3.7/asyncio/tasks.py'>,\n",
       " 'asyncio.locks': <module 'asyncio.locks' from '/Users/adityavyas/anaconda3/lib/python3.7/asyncio/locks.py'>,\n",
       " 'asyncio.runners': <module 'asyncio.runners' from '/Users/adityavyas/anaconda3/lib/python3.7/asyncio/runners.py'>,\n",
       " 'asyncio.queues': <module 'asyncio.queues' from '/Users/adityavyas/anaconda3/lib/python3.7/asyncio/queues.py'>,\n",
       " 'asyncio.streams': <module 'asyncio.streams' from '/Users/adityavyas/anaconda3/lib/python3.7/asyncio/streams.py'>,\n",
       " 'asyncio.subprocess': <module 'asyncio.subprocess' from '/Users/adityavyas/anaconda3/lib/python3.7/asyncio/subprocess.py'>,\n",
       " 'asyncio.unix_events': <module 'asyncio.unix_events' from '/Users/adityavyas/anaconda3/lib/python3.7/asyncio/unix_events.py'>,\n",
       " 'asyncio.base_subprocess': <module 'asyncio.base_subprocess' from '/Users/adityavyas/anaconda3/lib/python3.7/asyncio/base_subprocess.py'>,\n",
       " 'asyncio.selector_events': <module 'asyncio.selector_events' from '/Users/adityavyas/anaconda3/lib/python3.7/asyncio/selector_events.py'>,\n",
       " 'prompt_toolkit': <module 'prompt_toolkit' from '/Users/adityavyas/anaconda3/lib/python3.7/site-packages/prompt_toolkit/__init__.py'>,\n",
       " 'prompt_toolkit.application': <module 'prompt_toolkit.application' from '/Users/adityavyas/anaconda3/lib/python3.7/site-packages/prompt_toolkit/application/__init__.py'>,\n",
       " 'prompt_toolkit.application.application': <module 'prompt_toolkit.application.application' from '/Users/adityavyas/anaconda3/lib/python3.7/site-packages/prompt_toolkit/application/application.py'>,\n",
       " 'prompt_toolkit.buffer': <module 'prompt_toolkit.buffer' from '/Users/adityavyas/anaconda3/lib/python3.7/site-packages/prompt_toolkit/buffer.py'>,\n",
       " 'prompt_toolkit.application.current': <module 'prompt_toolkit.application.current' from '/Users/adityavyas/anaconda3/lib/python3.7/site-packages/prompt_toolkit/application/current.py'>,\n",
       " 'prompt_toolkit.application.run_in_terminal': <module 'prompt_toolkit.application.run_in_terminal' from '/Users/adityavyas/anaconda3/lib/python3.7/site-packages/prompt_toolkit/application/run_in_terminal.py'>,\n",
       " 'prompt_toolkit.eventloop': <module 'prompt_toolkit.eventloop' from '/Users/adityavyas/anaconda3/lib/python3.7/site-packages/prompt_toolkit/eventloop/__init__.py'>,\n",
       " 'prompt_toolkit.eventloop.async_generator': <module 'prompt_toolkit.eventloop.async_generator' from '/Users/adityavyas/anaconda3/lib/python3.7/site-packages/prompt_toolkit/eventloop/async_generator.py'>,\n",
       " 'prompt_toolkit.eventloop.utils': <module 'prompt_toolkit.eventloop.utils' from '/Users/adityavyas/anaconda3/lib/python3.7/site-packages/prompt_toolkit/eventloop/utils.py'>,\n",
       " 'prompt_toolkit.eventloop.inputhook': <module 'prompt_toolkit.eventloop.inputhook' from '/Users/adityavyas/anaconda3/lib/python3.7/site-packages/prompt_toolkit/eventloop/inputhook.py'>,\n",
       " 'prompt_toolkit.utils': <module 'prompt_toolkit.utils' from '/Users/adityavyas/anaconda3/lib/python3.7/site-packages/prompt_toolkit/utils.py'>,\n",
       " 'wcwidth': <module 'wcwidth' from '/Users/adityavyas/anaconda3/lib/python3.7/site-packages/wcwidth/__init__.py'>,\n",
       " 'wcwidth.wcwidth': <module 'wcwidth.wcwidth' from '/Users/adityavyas/anaconda3/lib/python3.7/site-packages/wcwidth/wcwidth.py'>,\n",
       " 'pkg_resources': <module 'pkg_resources' from '/Users/adityavyas/anaconda3/lib/python3.7/site-packages/pkg_resources/__init__.py'>,\n",
       " 'zipfile': <module 'zipfile' from '/Users/adityavyas/anaconda3/lib/python3.7/zipfile.py'>,\n",
       " 'plistlib': <module 'plistlib' from '/Users/adityavyas/anaconda3/lib/python3.7/plistlib.py'>,\n",
       " 'xml': <module 'xml' from '/Users/adityavyas/anaconda3/lib/python3.7/xml/__init__.py'>,\n",
       " 'xml.parsers': <module 'xml.parsers' from '/Users/adityavyas/anaconda3/lib/python3.7/xml/parsers/__init__.py'>,\n",
       " 'xml.parsers.expat': <module 'xml.parsers.expat' from '/Users/adityavyas/anaconda3/lib/python3.7/xml/parsers/expat.py'>,\n",
       " 'pyexpat.errors': <module 'pyexpat.errors'>,\n",
       " 'pyexpat.model': <module 'pyexpat.model'>,\n",
       " 'pyexpat': <module 'pyexpat' from '/Users/adityavyas/anaconda3/lib/python3.7/lib-dynload/pyexpat.cpython-37m-darwin.so'>,\n",
       " 'xml.parsers.expat.model': <module 'pyexpat.model'>,\n",
       " 'xml.parsers.expat.errors': <module 'pyexpat.errors'>,\n",
       " 'email': <module 'email' from '/Users/adityavyas/anaconda3/lib/python3.7/email/__init__.py'>,\n",
       " 'email.parser': <module 'email.parser' from '/Users/adityavyas/anaconda3/lib/python3.7/email/parser.py'>,\n",
       " 'email.feedparser': <module 'email.feedparser' from '/Users/adityavyas/anaconda3/lib/python3.7/email/feedparser.py'>,\n",
       " 'email.errors': <module 'email.errors' from '/Users/adityavyas/anaconda3/lib/python3.7/email/errors.py'>,\n",
       " 'email._policybase': <module 'email._policybase' from '/Users/adityavyas/anaconda3/lib/python3.7/email/_policybase.py'>,\n",
       " 'email.header': <module 'email.header' from '/Users/adityavyas/anaconda3/lib/python3.7/email/header.py'>,\n",
       " 'email.quoprimime': <module 'email.quoprimime' from '/Users/adityavyas/anaconda3/lib/python3.7/email/quoprimime.py'>,\n",
       " 'email.base64mime': <module 'email.base64mime' from '/Users/adityavyas/anaconda3/lib/python3.7/email/base64mime.py'>,\n",
       " 'email.charset': <module 'email.charset' from '/Users/adityavyas/anaconda3/lib/python3.7/email/charset.py'>,\n",
       " 'email.encoders': <module 'email.encoders' from '/Users/adityavyas/anaconda3/lib/python3.7/email/encoders.py'>,\n",
       " 'quopri': <module 'quopri' from '/Users/adityavyas/anaconda3/lib/python3.7/quopri.py'>,\n",
       " 'email.utils': <module 'email.utils' from '/Users/adityavyas/anaconda3/lib/python3.7/email/utils.py'>,\n",
       " 'email._parseaddr': <module 'email._parseaddr' from '/Users/adityavyas/anaconda3/lib/python3.7/email/_parseaddr.py'>,\n",
       " 'calendar': <module 'calendar' from '/Users/adityavyas/anaconda3/lib/python3.7/calendar.py'>,\n",
       " 'pkg_resources.extern': <module 'pkg_resources.extern' from '/Users/adityavyas/anaconda3/lib/python3.7/site-packages/pkg_resources/extern/__init__.py'>,\n",
       " 'pkg_resources._vendor': <module 'pkg_resources._vendor' from '/Users/adityavyas/anaconda3/lib/python3.7/site-packages/pkg_resources/_vendor/__init__.py'>,\n",
       " 'pkg_resources._vendor.six': <module 'pkg_resources._vendor.six' from '/Users/adityavyas/anaconda3/lib/python3.7/site-packages/pkg_resources/_vendor/six.py'>,\n",
       " 'pkg_resources.extern.six': <module 'pkg_resources._vendor.six' from '/Users/adityavyas/anaconda3/lib/python3.7/site-packages/pkg_resources/_vendor/six.py'>,\n",
       " 'pkg_resources._vendor.six.moves': <module 'pkg_resources._vendor.six.moves' (<pkg_resources._vendor.six._SixMetaPathImporter object at 0x7fc550defa10>)>,\n",
       " 'pkg_resources.extern.six.moves': <module 'pkg_resources._vendor.six.moves' (<pkg_resources._vendor.six._SixMetaPathImporter object at 0x7fc550defa10>)>,\n",
       " 'pkg_resources._vendor.appdirs': <module 'pkg_resources._vendor.appdirs' from '/Users/adityavyas/anaconda3/lib/python3.7/site-packages/pkg_resources/_vendor/appdirs.py'>,\n",
       " 'pkg_resources.extern.appdirs': <module 'pkg_resources._vendor.appdirs' from '/Users/adityavyas/anaconda3/lib/python3.7/site-packages/pkg_resources/_vendor/appdirs.py'>,\n",
       " 'pkg_resources._vendor.packaging': <module 'pkg_resources._vendor.packaging' from '/Users/adityavyas/anaconda3/lib/python3.7/site-packages/pkg_resources/_vendor/packaging/__init__.py'>,\n",
       " 'pkg_resources._vendor.packaging.__about__': <module 'pkg_resources._vendor.packaging.__about__' from '/Users/adityavyas/anaconda3/lib/python3.7/site-packages/pkg_resources/_vendor/packaging/__about__.py'>,\n",
       " 'pkg_resources.extern.packaging': <module 'pkg_resources._vendor.packaging' from '/Users/adityavyas/anaconda3/lib/python3.7/site-packages/pkg_resources/_vendor/packaging/__init__.py'>,\n",
       " 'pkg_resources.extern.packaging.version': <module 'pkg_resources.extern.packaging.version' from '/Users/adityavyas/anaconda3/lib/python3.7/site-packages/pkg_resources/_vendor/packaging/version.py'>,\n",
       " 'pkg_resources.extern.packaging._structures': <module 'pkg_resources.extern.packaging._structures' from '/Users/adityavyas/anaconda3/lib/python3.7/site-packages/pkg_resources/_vendor/packaging/_structures.py'>,\n",
       " 'pkg_resources.extern.packaging.specifiers': <module 'pkg_resources.extern.packaging.specifiers' from '/Users/adityavyas/anaconda3/lib/python3.7/site-packages/pkg_resources/_vendor/packaging/specifiers.py'>,\n",
       " 'pkg_resources.extern.packaging._compat': <module 'pkg_resources.extern.packaging._compat' from '/Users/adityavyas/anaconda3/lib/python3.7/site-packages/pkg_resources/_vendor/packaging/_compat.py'>,\n",
       " 'pkg_resources.extern.packaging.requirements': <module 'pkg_resources.extern.packaging.requirements' from '/Users/adityavyas/anaconda3/lib/python3.7/site-packages/pkg_resources/_vendor/packaging/requirements.py'>,\n",
       " 'pkg_resources._vendor.pyparsing': <module 'pkg_resources._vendor.pyparsing' from '/Users/adityavyas/anaconda3/lib/python3.7/site-packages/pkg_resources/_vendor/pyparsing.py'>,\n",
       " 'pkg_resources.extern.pyparsing': <module 'pkg_resources._vendor.pyparsing' from '/Users/adityavyas/anaconda3/lib/python3.7/site-packages/pkg_resources/_vendor/pyparsing.py'>,\n",
       " 'pkg_resources._vendor.six.moves.urllib': <module 'pkg_resources._vendor.six.moves.urllib' (<pkg_resources._vendor.six._SixMetaPathImporter object at 0x7fc550defa10>)>,\n",
       " 'pkg_resources.extern.six.moves.urllib': <module 'pkg_resources._vendor.six.moves.urllib' (<pkg_resources._vendor.six._SixMetaPathImporter object at 0x7fc550defa10>)>,\n",
       " 'pkg_resources.extern.packaging.markers': <module 'pkg_resources.extern.packaging.markers' from '/Users/adityavyas/anaconda3/lib/python3.7/site-packages/pkg_resources/_vendor/packaging/markers.py'>,\n",
       " 'pkg_resources.py2_warn': <module 'pkg_resources.py2_warn' from '/Users/adityavyas/anaconda3/lib/python3.7/site-packages/pkg_resources/py2_warn.py'>,\n",
       " 'sysconfig': <module 'sysconfig' from '/Users/adityavyas/anaconda3/lib/python3.7/sysconfig.py'>,\n",
       " '_osx_support': <module '_osx_support' from '/Users/adityavyas/anaconda3/lib/python3.7/_osx_support.py'>,\n",
       " '_sysconfigdata_m_darwin_darwin': <module '_sysconfigdata_m_darwin_darwin' from '/Users/adityavyas/anaconda3/lib/python3.7/_sysconfigdata_m_darwin_darwin.py'>,\n",
       " 'wcwidth.table_wide': <module 'wcwidth.table_wide' from '/Users/adityavyas/anaconda3/lib/python3.7/site-packages/wcwidth/table_wide.py'>,\n",
       " 'wcwidth.table_zero': <module 'wcwidth.table_zero' from '/Users/adityavyas/anaconda3/lib/python3.7/site-packages/wcwidth/table_zero.py'>,\n",
       " 'prompt_toolkit.auto_suggest': <module 'prompt_toolkit.auto_suggest' from '/Users/adityavyas/anaconda3/lib/python3.7/site-packages/prompt_toolkit/auto_suggest.py'>,\n",
       " 'prompt_toolkit.document': <module 'prompt_toolkit.document' from '/Users/adityavyas/anaconda3/lib/python3.7/site-packages/prompt_toolkit/document.py'>,\n",
       " 'prompt_toolkit.clipboard': <module 'prompt_toolkit.clipboard' from '/Users/adityavyas/anaconda3/lib/python3.7/site-packages/prompt_toolkit/clipboard/__init__.py'>,\n",
       " 'prompt_toolkit.clipboard.base': <module 'prompt_toolkit.clipboard.base' from '/Users/adityavyas/anaconda3/lib/python3.7/site-packages/prompt_toolkit/clipboard/base.py'>,\n",
       " 'prompt_toolkit.selection': <module 'prompt_toolkit.selection' from '/Users/adityavyas/anaconda3/lib/python3.7/site-packages/prompt_toolkit/selection.py'>,\n",
       " 'prompt_toolkit.clipboard.in_memory': <module 'prompt_toolkit.clipboard.in_memory' from '/Users/adityavyas/anaconda3/lib/python3.7/site-packages/prompt_toolkit/clipboard/in_memory.py'>,\n",
       " 'prompt_toolkit.filters': <module 'prompt_toolkit.filters' from '/Users/adityavyas/anaconda3/lib/python3.7/site-packages/prompt_toolkit/filters/__init__.py'>,\n",
       " 'prompt_toolkit.filters.app': <module 'prompt_toolkit.filters.app' from '/Users/adityavyas/anaconda3/lib/python3.7/site-packages/prompt_toolkit/filters/app.py'>,\n",
       " 'prompt_toolkit.cache': <module 'prompt_toolkit.cache' from '/Users/adityavyas/anaconda3/lib/python3.7/site-packages/prompt_toolkit/cache.py'>,\n",
       " 'prompt_toolkit.enums': <module 'prompt_toolkit.enums' from '/Users/adityavyas/anaconda3/lib/python3.7/site-packages/prompt_toolkit/enums.py'>,\n",
       " 'prompt_toolkit.filters.base': <module 'prompt_toolkit.filters.base' from '/Users/adityavyas/anaconda3/lib/python3.7/site-packages/prompt_toolkit/filters/base.py'>,\n",
       " 'prompt_toolkit.filters.cli': <module 'prompt_toolkit.filters.cli' from '/Users/adityavyas/anaconda3/lib/python3.7/site-packages/prompt_toolkit/filters/cli.py'>,\n",
       " 'prompt_toolkit.filters.utils': <module 'prompt_toolkit.filters.utils' from '/Users/adityavyas/anaconda3/lib/python3.7/site-packages/prompt_toolkit/filters/utils.py'>,\n",
       " 'prompt_toolkit.completion': <module 'prompt_toolkit.completion' from '/Users/adityavyas/anaconda3/lib/python3.7/site-packages/prompt_toolkit/completion/__init__.py'>,\n",
       " 'prompt_toolkit.completion.base': <module 'prompt_toolkit.completion.base' from '/Users/adityavyas/anaconda3/lib/python3.7/site-packages/prompt_toolkit/completion/base.py'>,\n",
       " 'prompt_toolkit.formatted_text': <module 'prompt_toolkit.formatted_text' from '/Users/adityavyas/anaconda3/lib/python3.7/site-packages/prompt_toolkit/formatted_text/__init__.py'>,\n",
       " 'prompt_toolkit.formatted_text.ansi': <module 'prompt_toolkit.formatted_text.ansi' from '/Users/adityavyas/anaconda3/lib/python3.7/site-packages/prompt_toolkit/formatted_text/ansi.py'>,\n",
       " 'prompt_toolkit.output': <module 'prompt_toolkit.output' from '/Users/adityavyas/anaconda3/lib/python3.7/site-packages/prompt_toolkit/output/__init__.py'>,\n",
       " 'prompt_toolkit.output.base': <module 'prompt_toolkit.output.base' from '/Users/adityavyas/anaconda3/lib/python3.7/site-packages/prompt_toolkit/output/base.py'>,\n",
       " 'prompt_toolkit.data_structures': <module 'prompt_toolkit.data_structures' from '/Users/adityavyas/anaconda3/lib/python3.7/site-packages/prompt_toolkit/data_structures.py'>,\n",
       " 'prompt_toolkit.styles': <module 'prompt_toolkit.styles' from '/Users/adityavyas/anaconda3/lib/python3.7/site-packages/prompt_toolkit/styles/__init__.py'>,\n",
       " 'prompt_toolkit.styles.base': <module 'prompt_toolkit.styles.base' from '/Users/adityavyas/anaconda3/lib/python3.7/site-packages/prompt_toolkit/styles/base.py'>,\n",
       " 'prompt_toolkit.styles.defaults': <module 'prompt_toolkit.styles.defaults' from '/Users/adityavyas/anaconda3/lib/python3.7/site-packages/prompt_toolkit/styles/defaults.py'>,\n",
       " 'prompt_toolkit.styles.named_colors': <module 'prompt_toolkit.styles.named_colors' from '/Users/adityavyas/anaconda3/lib/python3.7/site-packages/prompt_toolkit/styles/named_colors.py'>,\n",
       " 'prompt_toolkit.styles.style': <module 'prompt_toolkit.styles.style' from '/Users/adityavyas/anaconda3/lib/python3.7/site-packages/prompt_toolkit/styles/style.py'>,\n",
       " 'prompt_toolkit.styles.pygments': <module 'prompt_toolkit.styles.pygments' from '/Users/adityavyas/anaconda3/lib/python3.7/site-packages/prompt_toolkit/styles/pygments.py'>,\n",
       " 'prompt_toolkit.styles.style_transformation': <module 'prompt_toolkit.styles.style_transformation' from '/Users/adityavyas/anaconda3/lib/python3.7/site-packages/prompt_toolkit/styles/style_transformation.py'>,\n",
       " 'colorsys': <module 'colorsys' from '/Users/adityavyas/anaconda3/lib/python3.7/colorsys.py'>,\n",
       " 'prompt_toolkit.output.color_depth': <module 'prompt_toolkit.output.color_depth' from '/Users/adityavyas/anaconda3/lib/python3.7/site-packages/prompt_toolkit/output/color_depth.py'>,\n",
       " 'prompt_toolkit.output.defaults': <module 'prompt_toolkit.output.defaults' from '/Users/adityavyas/anaconda3/lib/python3.7/site-packages/prompt_toolkit/output/defaults.py'>,\n",
       " 'prompt_toolkit.patch_stdout': <module 'prompt_toolkit.patch_stdout' from '/Users/adityavyas/anaconda3/lib/python3.7/site-packages/prompt_toolkit/patch_stdout.py'>,\n",
       " 'prompt_toolkit.output.vt100': <module 'prompt_toolkit.output.vt100' from '/Users/adityavyas/anaconda3/lib/python3.7/site-packages/prompt_toolkit/output/vt100.py'>,\n",
       " 'array': <module 'array' from '/Users/adityavyas/anaconda3/lib/python3.7/lib-dynload/array.cpython-37m-darwin.so'>,\n",
       " 'prompt_toolkit.formatted_text.base': <module 'prompt_toolkit.formatted_text.base' from '/Users/adityavyas/anaconda3/lib/python3.7/site-packages/prompt_toolkit/formatted_text/base.py'>,\n",
       " 'prompt_toolkit.mouse_events': <module 'prompt_toolkit.mouse_events' from '/Users/adityavyas/anaconda3/lib/python3.7/site-packages/prompt_toolkit/mouse_events.py'>,\n",
       " 'prompt_toolkit.formatted_text.html': <module 'prompt_toolkit.formatted_text.html' from '/Users/adityavyas/anaconda3/lib/python3.7/site-packages/prompt_toolkit/formatted_text/html.py'>,\n",
       " 'xml.dom': <module 'xml.dom' from '/Users/adityavyas/anaconda3/lib/python3.7/xml/dom/__init__.py'>,\n",
       " 'xml.dom.domreg': <module 'xml.dom.domreg' from '/Users/adityavyas/anaconda3/lib/python3.7/xml/dom/domreg.py'>,\n",
       " 'xml.dom.minidom': <module 'xml.dom.minidom' from '/Users/adityavyas/anaconda3/lib/python3.7/xml/dom/minidom.py'>,\n",
       " 'xml.dom.minicompat': <module 'xml.dom.minicompat' from '/Users/adityavyas/anaconda3/lib/python3.7/xml/dom/minicompat.py'>,\n",
       " 'xml.dom.xmlbuilder': <module 'xml.dom.xmlbuilder' from '/Users/adityavyas/anaconda3/lib/python3.7/xml/dom/xmlbuilder.py'>,\n",
       " 'xml.dom.NodeFilter': <module 'xml.dom.NodeFilter' from '/Users/adityavyas/anaconda3/lib/python3.7/xml/dom/NodeFilter.py'>,\n",
       " 'prompt_toolkit.formatted_text.pygments': <module 'prompt_toolkit.formatted_text.pygments' from '/Users/adityavyas/anaconda3/lib/python3.7/site-packages/prompt_toolkit/formatted_text/pygments.py'>,\n",
       " 'prompt_toolkit.formatted_text.utils': <module 'prompt_toolkit.formatted_text.utils' from '/Users/adityavyas/anaconda3/lib/python3.7/site-packages/prompt_toolkit/formatted_text/utils.py'>,\n",
       " 'prompt_toolkit.completion.filesystem': <module 'prompt_toolkit.completion.filesystem' from '/Users/adityavyas/anaconda3/lib/python3.7/site-packages/prompt_toolkit/completion/filesystem.py'>,\n",
       " 'prompt_toolkit.completion.fuzzy_completer': <module 'prompt_toolkit.completion.fuzzy_completer' from '/Users/adityavyas/anaconda3/lib/python3.7/site-packages/prompt_toolkit/completion/fuzzy_completer.py'>,\n",
       " 'prompt_toolkit.completion.word_completer': <module 'prompt_toolkit.completion.word_completer' from '/Users/adityavyas/anaconda3/lib/python3.7/site-packages/prompt_toolkit/completion/word_completer.py'>,\n",
       " 'prompt_toolkit.completion.nested': <module 'prompt_toolkit.completion.nested' from '/Users/adityavyas/anaconda3/lib/python3.7/site-packages/prompt_toolkit/completion/nested.py'>,\n",
       " 'prompt_toolkit.history': <module 'prompt_toolkit.history' from '/Users/adityavyas/anaconda3/lib/python3.7/site-packages/prompt_toolkit/history.py'>,\n",
       " 'prompt_toolkit.search': <module 'prompt_toolkit.search' from '/Users/adityavyas/anaconda3/lib/python3.7/site-packages/prompt_toolkit/search.py'>,\n",
       " 'prompt_toolkit.key_binding': <module 'prompt_toolkit.key_binding' from '/Users/adityavyas/anaconda3/lib/python3.7/site-packages/prompt_toolkit/key_binding/__init__.py'>,\n",
       " 'prompt_toolkit.key_binding.key_bindings': <module 'prompt_toolkit.key_binding.key_bindings' from '/Users/adityavyas/anaconda3/lib/python3.7/site-packages/prompt_toolkit/key_binding/key_bindings.py'>,\n",
       " 'prompt_toolkit.keys': <module 'prompt_toolkit.keys' from '/Users/adityavyas/anaconda3/lib/python3.7/site-packages/prompt_toolkit/keys.py'>,\n",
       " 'prompt_toolkit.key_binding.key_processor': <module 'prompt_toolkit.key_binding.key_processor' from '/Users/adityavyas/anaconda3/lib/python3.7/site-packages/prompt_toolkit/key_binding/key_processor.py'>,\n",
       " 'prompt_toolkit.key_binding.vi_state': <module 'prompt_toolkit.key_binding.vi_state' from '/Users/adityavyas/anaconda3/lib/python3.7/site-packages/prompt_toolkit/key_binding/vi_state.py'>,\n",
       " 'prompt_toolkit.validation': <module 'prompt_toolkit.validation' from '/Users/adityavyas/anaconda3/lib/python3.7/site-packages/prompt_toolkit/validation.py'>,\n",
       " 'prompt_toolkit.input': <module 'prompt_toolkit.input' from '/Users/adityavyas/anaconda3/lib/python3.7/site-packages/prompt_toolkit/input/__init__.py'>,\n",
       " 'prompt_toolkit.input.base': <module 'prompt_toolkit.input.base' from '/Users/adityavyas/anaconda3/lib/python3.7/site-packages/prompt_toolkit/input/base.py'>,\n",
       " 'prompt_toolkit.input.defaults': <module 'prompt_toolkit.input.defaults' from '/Users/adityavyas/anaconda3/lib/python3.7/site-packages/prompt_toolkit/input/defaults.py'>,\n",
       " 'prompt_toolkit.input.typeahead': <module 'prompt_toolkit.input.typeahead' from '/Users/adityavyas/anaconda3/lib/python3.7/site-packages/prompt_toolkit/input/typeahead.py'>,\n",
       " 'prompt_toolkit.key_binding.bindings': <module 'prompt_toolkit.key_binding.bindings' from '/Users/adityavyas/anaconda3/lib/python3.7/site-packages/prompt_toolkit/key_binding/bindings/__init__.py'>,\n",
       " 'prompt_toolkit.key_binding.bindings.page_navigation': <module 'prompt_toolkit.key_binding.bindings.page_navigation' from '/Users/adityavyas/anaconda3/lib/python3.7/site-packages/prompt_toolkit/key_binding/bindings/page_navigation.py'>,\n",
       " 'prompt_toolkit.key_binding.bindings.scroll': <module 'prompt_toolkit.key_binding.bindings.scroll' from '/Users/adityavyas/anaconda3/lib/python3.7/site-packages/prompt_toolkit/key_binding/bindings/scroll.py'>,\n",
       " 'prompt_toolkit.key_binding.defaults': <module 'prompt_toolkit.key_binding.defaults' from '/Users/adityavyas/anaconda3/lib/python3.7/site-packages/prompt_toolkit/key_binding/defaults.py'>,\n",
       " 'prompt_toolkit.key_binding.bindings.basic': <module 'prompt_toolkit.key_binding.bindings.basic' from '/Users/adityavyas/anaconda3/lib/python3.7/site-packages/prompt_toolkit/key_binding/bindings/basic.py'>,\n",
       " 'prompt_toolkit.key_binding.bindings.named_commands': <module 'prompt_toolkit.key_binding.bindings.named_commands' from '/Users/adityavyas/anaconda3/lib/python3.7/site-packages/prompt_toolkit/key_binding/bindings/named_commands.py'>,\n",
       " 'prompt_toolkit.layout': <module 'prompt_toolkit.layout' from '/Users/adityavyas/anaconda3/lib/python3.7/site-packages/prompt_toolkit/layout/__init__.py'>,\n",
       " 'prompt_toolkit.layout.containers': <module 'prompt_toolkit.layout.containers' from '/Users/adityavyas/anaconda3/lib/python3.7/site-packages/prompt_toolkit/layout/containers.py'>,\n",
       " 'prompt_toolkit.layout.controls': <module 'prompt_toolkit.layout.controls' from '/Users/adityavyas/anaconda3/lib/python3.7/site-packages/prompt_toolkit/layout/controls.py'>,\n",
       " 'prompt_toolkit.lexers': <module 'prompt_toolkit.lexers' from '/Users/adityavyas/anaconda3/lib/python3.7/site-packages/prompt_toolkit/lexers/__init__.py'>,\n",
       " 'prompt_toolkit.lexers.base': <module 'prompt_toolkit.lexers.base' from '/Users/adityavyas/anaconda3/lib/python3.7/site-packages/prompt_toolkit/lexers/base.py'>,\n",
       " 'prompt_toolkit.lexers.pygments': <module 'prompt_toolkit.lexers.pygments' from '/Users/adityavyas/anaconda3/lib/python3.7/site-packages/prompt_toolkit/lexers/pygments.py'>,\n",
       " 'prompt_toolkit.layout.processors': <module 'prompt_toolkit.layout.processors' from '/Users/adityavyas/anaconda3/lib/python3.7/site-packages/prompt_toolkit/layout/processors.py'>,\n",
       " 'prompt_toolkit.layout.utils': <module 'prompt_toolkit.layout.utils' from '/Users/adityavyas/anaconda3/lib/python3.7/site-packages/prompt_toolkit/layout/utils.py'>,\n",
       " 'prompt_toolkit.layout.dimension': <module 'prompt_toolkit.layout.dimension' from '/Users/adityavyas/anaconda3/lib/python3.7/site-packages/prompt_toolkit/layout/dimension.py'>,\n",
       " 'prompt_toolkit.layout.margins': <module 'prompt_toolkit.layout.margins' from '/Users/adityavyas/anaconda3/lib/python3.7/site-packages/prompt_toolkit/layout/margins.py'>,\n",
       " 'prompt_toolkit.layout.mouse_handlers': <module 'prompt_toolkit.layout.mouse_handlers' from '/Users/adityavyas/anaconda3/lib/python3.7/site-packages/prompt_toolkit/layout/mouse_handlers.py'>,\n",
       " 'prompt_toolkit.layout.screen': <module 'prompt_toolkit.layout.screen' from '/Users/adityavyas/anaconda3/lib/python3.7/site-packages/prompt_toolkit/layout/screen.py'>,\n",
       " 'prompt_toolkit.layout.layout': <module 'prompt_toolkit.layout.layout' from '/Users/adityavyas/anaconda3/lib/python3.7/site-packages/prompt_toolkit/layout/layout.py'>,\n",
       " 'prompt_toolkit.layout.menus': <module 'prompt_toolkit.layout.menus' from '/Users/adityavyas/anaconda3/lib/python3.7/site-packages/prompt_toolkit/layout/menus.py'>,\n",
       " 'prompt_toolkit.key_binding.bindings.completion': <module 'prompt_toolkit.key_binding.bindings.completion' from '/Users/adityavyas/anaconda3/lib/python3.7/site-packages/prompt_toolkit/key_binding/bindings/completion.py'>,\n",
       " 'prompt_toolkit.key_binding.bindings.cpr': <module 'prompt_toolkit.key_binding.bindings.cpr' from '/Users/adityavyas/anaconda3/lib/python3.7/site-packages/prompt_toolkit/key_binding/bindings/cpr.py'>,\n",
       " 'prompt_toolkit.key_binding.bindings.emacs': <module 'prompt_toolkit.key_binding.bindings.emacs' from '/Users/adityavyas/anaconda3/lib/python3.7/site-packages/prompt_toolkit/key_binding/bindings/emacs.py'>,\n",
       " 'prompt_toolkit.key_binding.bindings.mouse': <module 'prompt_toolkit.key_binding.bindings.mouse' from '/Users/adityavyas/anaconda3/lib/python3.7/site-packages/prompt_toolkit/key_binding/bindings/mouse.py'>,\n",
       " 'prompt_toolkit.key_binding.bindings.vi': <module 'prompt_toolkit.key_binding.bindings.vi' from '/Users/adityavyas/anaconda3/lib/python3.7/site-packages/prompt_toolkit/key_binding/bindings/vi.py'>,\n",
       " 'prompt_toolkit.input.vt100_parser': <module 'prompt_toolkit.input.vt100_parser' from '/Users/adityavyas/anaconda3/lib/python3.7/site-packages/prompt_toolkit/input/vt100_parser.py'>,\n",
       " 'prompt_toolkit.input.ansi_escape_sequences': <module 'prompt_toolkit.input.ansi_escape_sequences' from '/Users/adityavyas/anaconda3/lib/python3.7/site-packages/prompt_toolkit/input/ansi_escape_sequences.py'>,\n",
       " 'prompt_toolkit.key_binding.digraphs': <module 'prompt_toolkit.key_binding.digraphs' from '/Users/adityavyas/anaconda3/lib/python3.7/site-packages/prompt_toolkit/key_binding/digraphs.py'>,\n",
       " 'prompt_toolkit.key_binding.emacs_state': <module 'prompt_toolkit.key_binding.emacs_state' from '/Users/adityavyas/anaconda3/lib/python3.7/site-packages/prompt_toolkit/key_binding/emacs_state.py'>,\n",
       " 'prompt_toolkit.layout.dummy': <module 'prompt_toolkit.layout.dummy' from '/Users/adityavyas/anaconda3/lib/python3.7/site-packages/prompt_toolkit/layout/dummy.py'>,\n",
       " 'prompt_toolkit.renderer': <module 'prompt_toolkit.renderer' from '/Users/adityavyas/anaconda3/lib/python3.7/site-packages/prompt_toolkit/renderer.py'>,\n",
       " 'prompt_toolkit.application.dummy': <module 'prompt_toolkit.application.dummy' from '/Users/adityavyas/anaconda3/lib/python3.7/site-packages/prompt_toolkit/application/dummy.py'>,\n",
       " 'prompt_toolkit.shortcuts': <module 'prompt_toolkit.shortcuts' from '/Users/adityavyas/anaconda3/lib/python3.7/site-packages/prompt_toolkit/shortcuts/__init__.py'>,\n",
       " 'prompt_toolkit.shortcuts.dialogs': <module 'prompt_toolkit.shortcuts.dialogs' from '/Users/adityavyas/anaconda3/lib/python3.7/site-packages/prompt_toolkit/shortcuts/dialogs.py'>,\n",
       " 'prompt_toolkit.key_binding.bindings.focus': <module 'prompt_toolkit.key_binding.bindings.focus' from '/Users/adityavyas/anaconda3/lib/python3.7/site-packages/prompt_toolkit/key_binding/bindings/focus.py'>,\n",
       " 'prompt_toolkit.widgets': <module 'prompt_toolkit.widgets' from '/Users/adityavyas/anaconda3/lib/python3.7/site-packages/prompt_toolkit/widgets/__init__.py'>,\n",
       " 'prompt_toolkit.widgets.base': <module 'prompt_toolkit.widgets.base' from '/Users/adityavyas/anaconda3/lib/python3.7/site-packages/prompt_toolkit/widgets/base.py'>,\n",
       " 'prompt_toolkit.widgets.toolbars': <module 'prompt_toolkit.widgets.toolbars' from '/Users/adityavyas/anaconda3/lib/python3.7/site-packages/prompt_toolkit/widgets/toolbars.py'>,\n",
       " 'prompt_toolkit.widgets.dialogs': <module 'prompt_toolkit.widgets.dialogs' from '/Users/adityavyas/anaconda3/lib/python3.7/site-packages/prompt_toolkit/widgets/dialogs.py'>,\n",
       " 'prompt_toolkit.widgets.menus': <module 'prompt_toolkit.widgets.menus' from '/Users/adityavyas/anaconda3/lib/python3.7/site-packages/prompt_toolkit/widgets/menus.py'>,\n",
       " 'prompt_toolkit.shortcuts.progress_bar': <module 'prompt_toolkit.shortcuts.progress_bar' from '/Users/adityavyas/anaconda3/lib/python3.7/site-packages/prompt_toolkit/shortcuts/progress_bar/__init__.py'>,\n",
       " 'prompt_toolkit.shortcuts.progress_bar.base': <module 'prompt_toolkit.shortcuts.progress_bar.base' from '/Users/adityavyas/anaconda3/lib/python3.7/site-packages/prompt_toolkit/shortcuts/progress_bar/base.py'>,\n",
       " 'prompt_toolkit.shortcuts.progress_bar.formatters': <module 'prompt_toolkit.shortcuts.progress_bar.formatters' from '/Users/adityavyas/anaconda3/lib/python3.7/site-packages/prompt_toolkit/shortcuts/progress_bar/formatters.py'>,\n",
       " 'prompt_toolkit.shortcuts.prompt': <module 'prompt_toolkit.shortcuts.prompt' from '/Users/adityavyas/anaconda3/lib/python3.7/site-packages/prompt_toolkit/shortcuts/prompt.py'>,\n",
       " 'prompt_toolkit.key_binding.bindings.auto_suggest': <module 'prompt_toolkit.key_binding.bindings.auto_suggest' from '/Users/adityavyas/anaconda3/lib/python3.7/site-packages/prompt_toolkit/key_binding/bindings/auto_suggest.py'>,\n",
       " 'prompt_toolkit.key_binding.bindings.open_in_editor': <module 'prompt_toolkit.key_binding.bindings.open_in_editor' from '/Users/adityavyas/anaconda3/lib/python3.7/site-packages/prompt_toolkit/key_binding/bindings/open_in_editor.py'>,\n",
       " 'prompt_toolkit.shortcuts.utils': <module 'prompt_toolkit.shortcuts.utils' from '/Users/adityavyas/anaconda3/lib/python3.7/site-packages/prompt_toolkit/shortcuts/utils.py'>,\n",
       " 'pygments.style': <module 'pygments.style' from '/Users/adityavyas/anaconda3/lib/python3.7/site-packages/pygments/style.py'>,\n",
       " 'IPython.terminal.debugger': <module 'IPython.terminal.debugger' from '/Users/adityavyas/anaconda3/lib/python3.7/site-packages/IPython/terminal/debugger.py'>,\n",
       " 'IPython.core.completer': <module 'IPython.core.completer' from '/Users/adityavyas/anaconda3/lib/python3.7/site-packages/IPython/core/completer.py'>,\n",
       " 'unicodedata': <module 'unicodedata' from '/Users/adityavyas/anaconda3/lib/python3.7/lib-dynload/unicodedata.cpython-37m-darwin.so'>,\n",
       " 'IPython.core.latex_symbols': <module 'IPython.core.latex_symbols' from '/Users/adityavyas/anaconda3/lib/python3.7/site-packages/IPython/core/latex_symbols.py'>,\n",
       " 'IPython.utils.generics': <module 'IPython.utils.generics' from '/Users/adityavyas/anaconda3/lib/python3.7/site-packages/IPython/utils/generics.py'>,\n",
       " 'jedi': <module 'jedi' from '/Users/adityavyas/anaconda3/lib/python3.7/site-packages/jedi/__init__.py'>,\n",
       " 'jedi.api': <module 'jedi.api' from '/Users/adityavyas/anaconda3/lib/python3.7/site-packages/jedi/api/__init__.py'>,\n",
       " 'parso': <module 'parso' from '/Users/adityavyas/anaconda3/lib/python3.7/site-packages/parso/__init__.py'>,\n",
       " 'parso.parser': <module 'parso.parser' from '/Users/adityavyas/anaconda3/lib/python3.7/site-packages/parso/parser.py'>,\n",
       " 'parso.tree': <module 'parso.tree' from '/Users/adityavyas/anaconda3/lib/python3.7/site-packages/parso/tree.py'>,\n",
       " 'parso._compatibility': <module 'parso._compatibility' from '/Users/adityavyas/anaconda3/lib/python3.7/site-packages/parso/_compatibility.py'>,\n",
       " 'parso.utils': <module 'parso.utils' from '/Users/adityavyas/anaconda3/lib/python3.7/site-packages/parso/utils.py'>,\n",
       " 'parso.pgen2': <module 'parso.pgen2' from '/Users/adityavyas/anaconda3/lib/python3.7/site-packages/parso/pgen2/__init__.py'>,\n",
       " 'parso.pgen2.generator': <module 'parso.pgen2.generator' from '/Users/adityavyas/anaconda3/lib/python3.7/site-packages/parso/pgen2/generator.py'>,\n",
       " 'parso.pgen2.grammar_parser': <module 'parso.pgen2.grammar_parser' from '/Users/adityavyas/anaconda3/lib/python3.7/site-packages/parso/pgen2/grammar_parser.py'>,\n",
       " 'parso.python': <module 'parso.python' from '/Users/adityavyas/anaconda3/lib/python3.7/site-packages/parso/python/__init__.py'>,\n",
       " 'parso.python.tokenize': <module 'parso.python.tokenize' from '/Users/adityavyas/anaconda3/lib/python3.7/site-packages/parso/python/tokenize.py'>,\n",
       " 'parso.python.token': <module 'parso.python.token' from '/Users/adityavyas/anaconda3/lib/python3.7/site-packages/parso/python/token.py'>,\n",
       " 'parso.grammar': <module 'parso.grammar' from '/Users/adityavyas/anaconda3/lib/python3.7/site-packages/parso/grammar.py'>,\n",
       " 'parso.python.diff': <module 'parso.python.diff' from '/Users/adityavyas/anaconda3/lib/python3.7/site-packages/parso/python/diff.py'>,\n",
       " 'difflib': <module 'difflib' from '/Users/adityavyas/anaconda3/lib/python3.7/difflib.py'>,\n",
       " 'parso.python.parser': <module 'parso.python.parser' from '/Users/adityavyas/anaconda3/lib/python3.7/site-packages/parso/python/parser.py'>,\n",
       " 'parso.python.tree': <module 'parso.python.tree' from '/Users/adityavyas/anaconda3/lib/python3.7/site-packages/parso/python/tree.py'>,\n",
       " 'parso.python.prefix': <module 'parso.python.prefix' from '/Users/adityavyas/anaconda3/lib/python3.7/site-packages/parso/python/prefix.py'>,\n",
       " 'parso.cache': <module 'parso.cache' from '/Users/adityavyas/anaconda3/lib/python3.7/site-packages/parso/cache.py'>,\n",
       " 'gc': <module 'gc' (built-in)>,\n",
       " 'parso.python.errors': <module 'parso.python.errors' from '/Users/adityavyas/anaconda3/lib/python3.7/site-packages/parso/python/errors.py'>,\n",
       " 'parso.normalizer': <module 'parso.normalizer' from '/Users/adityavyas/anaconda3/lib/python3.7/site-packages/parso/normalizer.py'>,\n",
       " 'parso.python.pep8': <module 'parso.python.pep8' from '/Users/adityavyas/anaconda3/lib/python3.7/site-packages/parso/python/pep8.py'>,\n",
       " 'parso.file_io': <module 'parso.file_io' from '/Users/adityavyas/anaconda3/lib/python3.7/site-packages/parso/file_io.py'>,\n",
       " 'jedi._compatibility': <module 'jedi._compatibility' from '/Users/adityavyas/anaconda3/lib/python3.7/site-packages/jedi/_compatibility.py'>,\n",
       " 'jedi.file_io': <module 'jedi.file_io' from '/Users/adityavyas/anaconda3/lib/python3.7/site-packages/jedi/file_io.py'>,\n",
       " 'queue': <module 'queue' from '/Users/adityavyas/anaconda3/lib/python3.7/queue.py'>,\n",
       " '_queue': <module '_queue' from '/Users/adityavyas/anaconda3/lib/python3.7/lib-dynload/_queue.cpython-37m-darwin.so'>,\n",
       " 'jedi.parser_utils': <module 'jedi.parser_utils' from '/Users/adityavyas/anaconda3/lib/python3.7/site-packages/jedi/parser_utils.py'>,\n",
       " 'jedi.debug': <module 'jedi.debug' from '/Users/adityavyas/anaconda3/lib/python3.7/site-packages/jedi/debug.py'>,\n",
       " 'colorama': <module 'colorama' from '/Users/adityavyas/anaconda3/lib/python3.7/site-packages/colorama/__init__.py'>,\n",
       " 'colorama.initialise': <module 'colorama.initialise' from '/Users/adityavyas/anaconda3/lib/python3.7/site-packages/colorama/initialise.py'>,\n",
       " 'colorama.ansitowin32': <module 'colorama.ansitowin32' from '/Users/adityavyas/anaconda3/lib/python3.7/site-packages/colorama/ansitowin32.py'>,\n",
       " 'colorama.ansi': <module 'colorama.ansi' from '/Users/adityavyas/anaconda3/lib/python3.7/site-packages/colorama/ansi.py'>,\n",
       " 'colorama.winterm': <module 'colorama.winterm' from '/Users/adityavyas/anaconda3/lib/python3.7/site-packages/colorama/winterm.py'>,\n",
       " 'colorama.win32': <module 'colorama.win32' from '/Users/adityavyas/anaconda3/lib/python3.7/site-packages/colorama/win32.py'>,\n",
       " 'ctypes': <module 'ctypes' from '/Users/adityavyas/anaconda3/lib/python3.7/ctypes/__init__.py'>,\n",
       " '_ctypes': <module '_ctypes' from '/Users/adityavyas/anaconda3/lib/python3.7/lib-dynload/_ctypes.cpython-37m-darwin.so'>,\n",
       " 'ctypes._endian': <module 'ctypes._endian' from '/Users/adityavyas/anaconda3/lib/python3.7/ctypes/_endian.py'>,\n",
       " 'jedi.settings': <module 'jedi.settings' from '/Users/adityavyas/anaconda3/lib/python3.7/site-packages/jedi/settings.py'>,\n",
       " 'jedi.cache': <module 'jedi.cache' from '/Users/adityavyas/anaconda3/lib/python3.7/site-packages/jedi/cache.py'>,\n",
       " 'jedi.api.classes': <module 'jedi.api.classes' from '/Users/adityavyas/anaconda3/lib/python3.7/site-packages/jedi/api/classes.py'>,\n",
       " 'jedi.evaluate': <module 'jedi.evaluate' from '/Users/adityavyas/anaconda3/lib/python3.7/site-packages/jedi/evaluate/__init__.py'>,\n",
       " 'jedi.evaluate.utils': <module 'jedi.evaluate.utils' from '/Users/adityavyas/anaconda3/lib/python3.7/site-packages/jedi/evaluate/utils.py'>,\n",
       " 'jedi.evaluate.imports': <module 'jedi.evaluate.imports' from '/Users/adityavyas/anaconda3/lib/python3.7/site-packages/jedi/evaluate/imports.py'>,\n",
       " 'jedi.evaluate.sys_path': <module 'jedi.evaluate.sys_path' from '/Users/adityavyas/anaconda3/lib/python3.7/site-packages/jedi/evaluate/sys_path.py'>,\n",
       " 'jedi.evaluate.cache': <module 'jedi.evaluate.cache' from '/Users/adityavyas/anaconda3/lib/python3.7/site-packages/jedi/evaluate/cache.py'>,\n",
       " 'jedi.evaluate.base_context': <module 'jedi.evaluate.base_context' from '/Users/adityavyas/anaconda3/lib/python3.7/site-packages/jedi/evaluate/base_context.py'>,\n",
       " 'jedi.common': <module 'jedi.common' from '/Users/adityavyas/anaconda3/lib/python3.7/site-packages/jedi/common/__init__.py'>,\n",
       " 'jedi.common.context': <module 'jedi.common.context' from '/Users/adityavyas/anaconda3/lib/python3.7/site-packages/jedi/common/context.py'>,\n",
       " 'jedi.evaluate.helpers': <module 'jedi.evaluate.helpers' from '/Users/adityavyas/anaconda3/lib/python3.7/site-packages/jedi/evaluate/helpers.py'>,\n",
       " 'jedi.common.utils': <module 'jedi.common.utils' from '/Users/adityavyas/anaconda3/lib/python3.7/site-packages/jedi/common/utils.py'>,\n",
       " 'jedi.evaluate.compiled': <module 'jedi.evaluate.compiled' from '/Users/adityavyas/anaconda3/lib/python3.7/site-packages/jedi/evaluate/compiled/__init__.py'>,\n",
       " 'jedi.evaluate.compiled.context': <module 'jedi.evaluate.compiled.context' from '/Users/adityavyas/anaconda3/lib/python3.7/site-packages/jedi/evaluate/compiled/context.py'>,\n",
       " 'jedi.evaluate.filters': <module 'jedi.evaluate.filters' from '/Users/adityavyas/anaconda3/lib/python3.7/site-packages/jedi/evaluate/filters.py'>,\n",
       " 'jedi.evaluate.flow_analysis': <module 'jedi.evaluate.flow_analysis' from '/Users/adityavyas/anaconda3/lib/python3.7/site-packages/jedi/evaluate/flow_analysis.py'>,\n",
       " 'jedi.evaluate.recursion': <module 'jedi.evaluate.recursion' from '/Users/adityavyas/anaconda3/lib/python3.7/site-packages/jedi/evaluate/recursion.py'>,\n",
       " 'jedi.evaluate.names': <module 'jedi.evaluate.names' from '/Users/adityavyas/anaconda3/lib/python3.7/site-packages/jedi/evaluate/names.py'>,\n",
       " 'jedi.evaluate.lazy_context': <module 'jedi.evaluate.lazy_context' from '/Users/adityavyas/anaconda3/lib/python3.7/site-packages/jedi/evaluate/lazy_context.py'>,\n",
       " 'jedi.evaluate.compiled.access': <module 'jedi.evaluate.compiled.access' from '/Users/adityavyas/anaconda3/lib/python3.7/site-packages/jedi/evaluate/compiled/access.py'>,\n",
       " 'jedi.evaluate.compiled.getattr_static': <module 'jedi.evaluate.compiled.getattr_static' from '/Users/adityavyas/anaconda3/lib/python3.7/site-packages/jedi/evaluate/compiled/getattr_static.py'>,\n",
       " 'jedi.evaluate.signature': <module 'jedi.evaluate.signature' from '/Users/adityavyas/anaconda3/lib/python3.7/site-packages/jedi/evaluate/signature.py'>,\n",
       " 'jedi.evaluate.analysis': <module 'jedi.evaluate.analysis' from '/Users/adityavyas/anaconda3/lib/python3.7/site-packages/jedi/evaluate/analysis.py'>,\n",
       " 'jedi.evaluate.gradual': <module 'jedi.evaluate.gradual' from '/Users/adityavyas/anaconda3/lib/python3.7/site-packages/jedi/evaluate/gradual/__init__.py'>,\n",
       " 'jedi.evaluate.gradual.typeshed': <module 'jedi.evaluate.gradual.typeshed' from '/Users/adityavyas/anaconda3/lib/python3.7/site-packages/jedi/evaluate/gradual/typeshed.py'>,\n",
       " 'jedi.evaluate.gradual.stub_context': <module 'jedi.evaluate.gradual.stub_context' from '/Users/adityavyas/anaconda3/lib/python3.7/site-packages/jedi/evaluate/gradual/stub_context.py'>,\n",
       " 'jedi.evaluate.context': <module 'jedi.evaluate.context' from '/Users/adityavyas/anaconda3/lib/python3.7/site-packages/jedi/evaluate/context/__init__.py'>,\n",
       " 'jedi.evaluate.context.module': <module 'jedi.evaluate.context.module' from '/Users/adityavyas/anaconda3/lib/python3.7/site-packages/jedi/evaluate/context/module.py'>,\n",
       " 'jedi.evaluate.context.klass': <module 'jedi.evaluate.context.klass' from '/Users/adityavyas/anaconda3/lib/python3.7/site-packages/jedi/evaluate/context/klass.py'>,\n",
       " 'jedi.evaluate.arguments': <module 'jedi.evaluate.arguments' from '/Users/adityavyas/anaconda3/lib/python3.7/site-packages/jedi/evaluate/arguments.py'>,\n",
       " 'jedi.evaluate.context.iterable': <module 'jedi.evaluate.context.iterable' from '/Users/adityavyas/anaconda3/lib/python3.7/site-packages/jedi/evaluate/context/iterable.py'>,\n",
       " 'jedi.evaluate.param': <module 'jedi.evaluate.param' from '/Users/adityavyas/anaconda3/lib/python3.7/site-packages/jedi/evaluate/param.py'>,\n",
       " 'jedi.evaluate.docstrings': <module 'jedi.evaluate.docstrings' from '/Users/adityavyas/anaconda3/lib/python3.7/site-packages/jedi/evaluate/docstrings.py'>,\n",
       " 'jedi.evaluate.context.function': <module 'jedi.evaluate.context.function' from '/Users/adityavyas/anaconda3/lib/python3.7/site-packages/jedi/evaluate/context/function.py'>,\n",
       " 'jedi.evaluate.parser_cache': <module 'jedi.evaluate.parser_cache' from '/Users/adityavyas/anaconda3/lib/python3.7/site-packages/jedi/evaluate/parser_cache.py'>,\n",
       " 'jedi.evaluate.context.instance': <module 'jedi.evaluate.context.instance' from '/Users/adityavyas/anaconda3/lib/python3.7/site-packages/jedi/evaluate/context/instance.py'>,\n",
       " 'jedi.evaluate.gradual.typing': <module 'jedi.evaluate.gradual.typing' from '/Users/adityavyas/anaconda3/lib/python3.7/site-packages/jedi/evaluate/gradual/typing.py'>,\n",
       " 'jedi.evaluate.syntax_tree': <module 'jedi.evaluate.syntax_tree' from '/Users/adityavyas/anaconda3/lib/python3.7/site-packages/jedi/evaluate/syntax_tree.py'>,\n",
       " 'jedi.evaluate.finder': <module 'jedi.evaluate.finder' from '/Users/adityavyas/anaconda3/lib/python3.7/site-packages/jedi/evaluate/finder.py'>,\n",
       " 'jedi.evaluate.gradual.conversion': <module 'jedi.evaluate.gradual.conversion' from '/Users/adityavyas/anaconda3/lib/python3.7/site-packages/jedi/evaluate/gradual/conversion.py'>,\n",
       " 'jedi.evaluate.gradual.annotation': <module 'jedi.evaluate.gradual.annotation' from '/Users/adityavyas/anaconda3/lib/python3.7/site-packages/jedi/evaluate/gradual/annotation.py'>,\n",
       " 'jedi.api.keywords': <module 'jedi.api.keywords' from '/Users/adityavyas/anaconda3/lib/python3.7/site-packages/jedi/api/keywords.py'>,\n",
       " 'pydoc_data': <module 'pydoc_data' from '/Users/adityavyas/anaconda3/lib/python3.7/pydoc_data/__init__.py'>,\n",
       " 'pydoc_data.topics': <module 'pydoc_data.topics' from '/Users/adityavyas/anaconda3/lib/python3.7/pydoc_data/topics.py'>,\n",
       " 'jedi.api.interpreter': <module 'jedi.api.interpreter' from '/Users/adityavyas/anaconda3/lib/python3.7/site-packages/jedi/api/interpreter.py'>,\n",
       " 'jedi.evaluate.compiled.mixed': <module 'jedi.evaluate.compiled.mixed' from '/Users/adityavyas/anaconda3/lib/python3.7/site-packages/jedi/evaluate/compiled/mixed.py'>,\n",
       " 'jedi.api.helpers': <module 'jedi.api.helpers' from '/Users/adityavyas/anaconda3/lib/python3.7/site-packages/jedi/api/helpers.py'>,\n",
       " 'jedi.api.completion': <module 'jedi.api.completion' from '/Users/adityavyas/anaconda3/lib/python3.7/site-packages/jedi/api/completion.py'>,\n",
       " 'jedi.api.environment': <module 'jedi.api.environment' from '/Users/adityavyas/anaconda3/lib/python3.7/site-packages/jedi/api/environment.py'>,\n",
       " 'filecmp': <module 'filecmp' from '/Users/adityavyas/anaconda3/lib/python3.7/filecmp.py'>,\n",
       " 'jedi.evaluate.compiled.subprocess': <module 'jedi.evaluate.compiled.subprocess' from '/Users/adityavyas/anaconda3/lib/python3.7/site-packages/jedi/evaluate/compiled/subprocess/__init__.py'>,\n",
       " 'jedi.evaluate.compiled.subprocess.functions': <module 'jedi.evaluate.compiled.subprocess.functions' from '/Users/adityavyas/anaconda3/lib/python3.7/site-packages/jedi/evaluate/compiled/subprocess/functions.py'>,\n",
       " 'jedi.api.exceptions': <module 'jedi.api.exceptions' from '/Users/adityavyas/anaconda3/lib/python3.7/site-packages/jedi/api/exceptions.py'>,\n",
       " 'jedi.api.project': <module 'jedi.api.project' from '/Users/adityavyas/anaconda3/lib/python3.7/site-packages/jedi/api/project.py'>,\n",
       " 'jedi.evaluate.usages': <module 'jedi.evaluate.usages' from '/Users/adityavyas/anaconda3/lib/python3.7/site-packages/jedi/evaluate/usages.py'>,\n",
       " 'jedi.evaluate.gradual.utils': <module 'jedi.evaluate.gradual.utils' from '/Users/adityavyas/anaconda3/lib/python3.7/site-packages/jedi/evaluate/gradual/utils.py'>,\n",
       " 'IPython.terminal.ptutils': <module 'IPython.terminal.ptutils' from '/Users/adityavyas/anaconda3/lib/python3.7/site-packages/IPython/terminal/ptutils.py'>,\n",
       " 'IPython.terminal.shortcuts': <module 'IPython.terminal.shortcuts' from '/Users/adityavyas/anaconda3/lib/python3.7/site-packages/IPython/terminal/shortcuts.py'>,\n",
       " 'IPython.terminal.magics': <module 'IPython.terminal.magics' from '/Users/adityavyas/anaconda3/lib/python3.7/site-packages/IPython/terminal/magics.py'>,\n",
       " 'IPython.lib.clipboard': <module 'IPython.lib.clipboard' from '/Users/adityavyas/anaconda3/lib/python3.7/site-packages/IPython/lib/clipboard.py'>,\n",
       " 'IPython.terminal.pt_inputhooks': <module 'IPython.terminal.pt_inputhooks' from '/Users/adityavyas/anaconda3/lib/python3.7/site-packages/IPython/terminal/pt_inputhooks/__init__.py'>,\n",
       " 'IPython.terminal.prompts': <module 'IPython.terminal.prompts' from '/Users/adityavyas/anaconda3/lib/python3.7/site-packages/IPython/terminal/prompts.py'>,\n",
       " 'IPython.terminal.ipapp': <module 'IPython.terminal.ipapp' from '/Users/adityavyas/anaconda3/lib/python3.7/site-packages/IPython/terminal/ipapp.py'>,\n",
       " 'IPython.core.magics': <module 'IPython.core.magics' from '/Users/adityavyas/anaconda3/lib/python3.7/site-packages/IPython/core/magics/__init__.py'>,\n",
       " 'IPython.core.magics.auto': <module 'IPython.core.magics.auto' from '/Users/adityavyas/anaconda3/lib/python3.7/site-packages/IPython/core/magics/auto.py'>,\n",
       " 'IPython.core.magics.basic': <module 'IPython.core.magics.basic' from '/Users/adityavyas/anaconda3/lib/python3.7/site-packages/IPython/core/magics/basic.py'>,\n",
       " 'IPython.core.magics.code': <module 'IPython.core.magics.code' from '/Users/adityavyas/anaconda3/lib/python3.7/site-packages/IPython/core/magics/code.py'>,\n",
       " 'urllib.request': <module 'urllib.request' from '/Users/adityavyas/anaconda3/lib/python3.7/urllib/request.py'>,\n",
       " 'http': <module 'http' from '/Users/adityavyas/anaconda3/lib/python3.7/http/__init__.py'>,\n",
       " 'http.client': <module 'http.client' from '/Users/adityavyas/anaconda3/lib/python3.7/http/client.py'>,\n",
       " 'email.message': <module 'email.message' from '/Users/adityavyas/anaconda3/lib/python3.7/email/message.py'>,\n",
       " 'uu': <module 'uu' from '/Users/adityavyas/anaconda3/lib/python3.7/uu.py'>,\n",
       " 'email._encoded_words': <module 'email._encoded_words' from '/Users/adityavyas/anaconda3/lib/python3.7/email/_encoded_words.py'>,\n",
       " 'email.iterators': <module 'email.iterators' from '/Users/adityavyas/anaconda3/lib/python3.7/email/iterators.py'>,\n",
       " 'urllib.error': <module 'urllib.error' from '/Users/adityavyas/anaconda3/lib/python3.7/urllib/error.py'>,\n",
       " 'urllib.response': <module 'urllib.response' from '/Users/adityavyas/anaconda3/lib/python3.7/urllib/response.py'>,\n",
       " '_scproxy': <module '_scproxy' from '/Users/adityavyas/anaconda3/lib/python3.7/lib-dynload/_scproxy.cpython-37m-darwin.so'>,\n",
       " 'IPython.core.magics.config': <module 'IPython.core.magics.config' from '/Users/adityavyas/anaconda3/lib/python3.7/site-packages/IPython/core/magics/config.py'>,\n",
       " 'IPython.core.magics.display': <module 'IPython.core.magics.display' from '/Users/adityavyas/anaconda3/lib/python3.7/site-packages/IPython/core/magics/display.py'>,\n",
       " 'IPython.core.magics.execution': <module 'IPython.core.magics.execution' from '/Users/adityavyas/anaconda3/lib/python3.7/site-packages/IPython/core/magics/execution.py'>,\n",
       " 'timeit': <module 'timeit' from '/Users/adityavyas/anaconda3/lib/python3.7/timeit.py'>,\n",
       " 'cProfile': <module 'cProfile' from '/Users/adityavyas/anaconda3/lib/python3.7/cProfile.py'>,\n",
       " '_lsprof': <module '_lsprof' from '/Users/adityavyas/anaconda3/lib/python3.7/lib-dynload/_lsprof.cpython-37m-darwin.so'>,\n",
       " 'profile': <module 'profile' from '/Users/adityavyas/anaconda3/lib/python3.7/profile.py'>,\n",
       " 'pstats': <module 'pstats' from '/Users/adityavyas/anaconda3/lib/python3.7/pstats.py'>,\n",
       " 'IPython.utils.module_paths': <module 'IPython.utils.module_paths' from '/Users/adityavyas/anaconda3/lib/python3.7/site-packages/IPython/utils/module_paths.py'>,\n",
       " 'IPython.utils.timing': <module 'IPython.utils.timing' from '/Users/adityavyas/anaconda3/lib/python3.7/site-packages/IPython/utils/timing.py'>,\n",
       " 'IPython.core.magics.extension': <module 'IPython.core.magics.extension' from '/Users/adityavyas/anaconda3/lib/python3.7/site-packages/IPython/core/magics/extension.py'>,\n",
       " 'IPython.core.magics.history': <module 'IPython.core.magics.history' from '/Users/adityavyas/anaconda3/lib/python3.7/site-packages/IPython/core/magics/history.py'>,\n",
       " 'IPython.core.magics.logging': <module 'IPython.core.magics.logging' from '/Users/adityavyas/anaconda3/lib/python3.7/site-packages/IPython/core/magics/logging.py'>,\n",
       " 'IPython.core.magics.namespace': <module 'IPython.core.magics.namespace' from '/Users/adityavyas/anaconda3/lib/python3.7/site-packages/IPython/core/magics/namespace.py'>,\n",
       " 'IPython.core.magics.osm': <module 'IPython.core.magics.osm' from '/Users/adityavyas/anaconda3/lib/python3.7/site-packages/IPython/core/magics/osm.py'>,\n",
       " 'IPython.core.magics.packaging': <module 'IPython.core.magics.packaging' from '/Users/adityavyas/anaconda3/lib/python3.7/site-packages/IPython/core/magics/packaging.py'>,\n",
       " 'IPython.core.magics.pylab': <module 'IPython.core.magics.pylab' from '/Users/adityavyas/anaconda3/lib/python3.7/site-packages/IPython/core/magics/pylab.py'>,\n",
       " 'IPython.core.pylabtools': <module 'IPython.core.pylabtools' from '/Users/adityavyas/anaconda3/lib/python3.7/site-packages/IPython/core/pylabtools.py'>,\n",
       " 'IPython.core.magics.script': <module 'IPython.core.magics.script' from '/Users/adityavyas/anaconda3/lib/python3.7/site-packages/IPython/core/magics/script.py'>,\n",
       " 'IPython.lib.backgroundjobs': <module 'IPython.lib.backgroundjobs' from '/Users/adityavyas/anaconda3/lib/python3.7/site-packages/IPython/lib/backgroundjobs.py'>,\n",
       " 'IPython.core.shellapp': <module 'IPython.core.shellapp' from '/Users/adityavyas/anaconda3/lib/python3.7/site-packages/IPython/core/shellapp.py'>,\n",
       " 'IPython.extensions': <module 'IPython.extensions' from '/Users/adityavyas/anaconda3/lib/python3.7/site-packages/IPython/extensions/__init__.py'>,\n",
       " 'IPython.extensions.storemagic': <module 'IPython.extensions.storemagic' from '/Users/adityavyas/anaconda3/lib/python3.7/site-packages/IPython/extensions/storemagic.py'>,\n",
       " 'IPython.utils.frame': <module 'IPython.utils.frame' from '/Users/adityavyas/anaconda3/lib/python3.7/site-packages/IPython/utils/frame.py'>,\n",
       " 'jupyter_client': <module 'jupyter_client' from '/Users/adityavyas/anaconda3/lib/python3.7/site-packages/jupyter_client/__init__.py'>,\n",
       " 'jupyter_client._version': <module 'jupyter_client._version' from '/Users/adityavyas/anaconda3/lib/python3.7/site-packages/jupyter_client/_version.py'>,\n",
       " 'jupyter_client.connect': <module 'jupyter_client.connect' from '/Users/adityavyas/anaconda3/lib/python3.7/site-packages/jupyter_client/connect.py'>,\n",
       " 'zmq': <module 'zmq' from '/Users/adityavyas/anaconda3/lib/python3.7/site-packages/zmq/__init__.py'>,\n",
       " 'zmq.backend': <module 'zmq.backend' from '/Users/adityavyas/anaconda3/lib/python3.7/site-packages/zmq/backend/__init__.py'>,\n",
       " 'zmq.backend.select': <module 'zmq.backend.select' from '/Users/adityavyas/anaconda3/lib/python3.7/site-packages/zmq/backend/select.py'>,\n",
       " 'zmq.backend.cython': <module 'zmq.backend.cython' from '/Users/adityavyas/anaconda3/lib/python3.7/site-packages/zmq/backend/cython/__init__.py'>,\n",
       " 'zmq.backend.cython.constants': <module 'zmq.backend.cython.constants' from '/Users/adityavyas/anaconda3/lib/python3.7/site-packages/zmq/backend/cython/constants.cpython-37m-darwin.so'>,\n",
       " 'cython_runtime': <module 'cython_runtime'>,\n",
       " 'zmq.backend.cython.error': <module 'zmq.backend.cython.error' from '/Users/adityavyas/anaconda3/lib/python3.7/site-packages/zmq/backend/cython/error.cpython-37m-darwin.so'>,\n",
       " '_cython_0_29_17': <module '_cython_0_29_17'>,\n",
       " 'zmq.backend.cython.message': <module 'zmq.backend.cython.message' from '/Users/adityavyas/anaconda3/lib/python3.7/site-packages/zmq/backend/cython/message.cpython-37m-darwin.so'>,\n",
       " 'zmq.error': <module 'zmq.error' from '/Users/adityavyas/anaconda3/lib/python3.7/site-packages/zmq/error.py'>,\n",
       " 'zmq.backend.cython.context': <module 'zmq.backend.cython.context' from '/Users/adityavyas/anaconda3/lib/python3.7/site-packages/zmq/backend/cython/context.cpython-37m-darwin.so'>,\n",
       " 'zmq.backend.cython.socket': <module 'zmq.backend.cython.socket' from '/Users/adityavyas/anaconda3/lib/python3.7/site-packages/zmq/backend/cython/socket.cpython-37m-darwin.so'>,\n",
       " 'zmq.backend.cython.utils': <module 'zmq.backend.cython.utils' from '/Users/adityavyas/anaconda3/lib/python3.7/site-packages/zmq/backend/cython/utils.cpython-37m-darwin.so'>,\n",
       " 'zmq.backend.cython._poll': <module 'zmq.backend.cython._poll' from '/Users/adityavyas/anaconda3/lib/python3.7/site-packages/zmq/backend/cython/_poll.cpython-37m-darwin.so'>,\n",
       " 'zmq.backend.cython._version': <module 'zmq.backend.cython._version' from '/Users/adityavyas/anaconda3/lib/python3.7/site-packages/zmq/backend/cython/_version.cpython-37m-darwin.so'>,\n",
       " 'zmq.backend.cython._device': <module 'zmq.backend.cython._device' from '/Users/adityavyas/anaconda3/lib/python3.7/site-packages/zmq/backend/cython/_device.cpython-37m-darwin.so'>,\n",
       " 'zmq.backend.cython._proxy_steerable': <module 'zmq.backend.cython._proxy_steerable' from '/Users/adityavyas/anaconda3/lib/python3.7/site-packages/zmq/backend/cython/_proxy_steerable.cpython-37m-darwin.so'>,\n",
       " 'zmq.sugar': <module 'zmq.sugar' from '/Users/adityavyas/anaconda3/lib/python3.7/site-packages/zmq/sugar/__init__.py'>,\n",
       " 'zmq.sugar.constants': <module 'zmq.sugar.constants' from '/Users/adityavyas/anaconda3/lib/python3.7/site-packages/zmq/sugar/constants.py'>,\n",
       " 'zmq.utils': <module 'zmq.utils' from '/Users/adityavyas/anaconda3/lib/python3.7/site-packages/zmq/utils/__init__.py'>,\n",
       " 'zmq.utils.constant_names': <module 'zmq.utils.constant_names' from '/Users/adityavyas/anaconda3/lib/python3.7/site-packages/zmq/utils/constant_names.py'>,\n",
       " 'zmq.sugar.context': <module 'zmq.sugar.context' from '/Users/adityavyas/anaconda3/lib/python3.7/site-packages/zmq/sugar/context.py'>,\n",
       " 'zmq.sugar.attrsettr': <module 'zmq.sugar.attrsettr' from '/Users/adityavyas/anaconda3/lib/python3.7/site-packages/zmq/sugar/attrsettr.py'>,\n",
       " 'zmq.sugar.socket': <module 'zmq.sugar.socket' from '/Users/adityavyas/anaconda3/lib/python3.7/site-packages/zmq/sugar/socket.py'>,\n",
       " 'zmq.sugar.poll': <module 'zmq.sugar.poll' from '/Users/adityavyas/anaconda3/lib/python3.7/site-packages/zmq/sugar/poll.py'>,\n",
       " 'zmq.utils.jsonapi': <module 'zmq.utils.jsonapi' from '/Users/adityavyas/anaconda3/lib/python3.7/site-packages/zmq/utils/jsonapi.py'>,\n",
       " 'zmq.utils.strtypes': <module 'zmq.utils.strtypes' from '/Users/adityavyas/anaconda3/lib/python3.7/site-packages/zmq/utils/strtypes.py'>,\n",
       " 'zmq.sugar.frame': <module 'zmq.sugar.frame' from '/Users/adityavyas/anaconda3/lib/python3.7/site-packages/zmq/sugar/frame.py'>,\n",
       " 'zmq.sugar.tracker': <module 'zmq.sugar.tracker' from '/Users/adityavyas/anaconda3/lib/python3.7/site-packages/zmq/sugar/tracker.py'>,\n",
       " 'zmq.sugar.version': <module 'zmq.sugar.version' from '/Users/adityavyas/anaconda3/lib/python3.7/site-packages/zmq/sugar/version.py'>,\n",
       " 'zmq.sugar.stopwatch': <module 'zmq.sugar.stopwatch' from '/Users/adityavyas/anaconda3/lib/python3.7/site-packages/zmq/sugar/stopwatch.py'>,\n",
       " 'jupyter_client.localinterfaces': <module 'jupyter_client.localinterfaces' from '/Users/adityavyas/anaconda3/lib/python3.7/site-packages/jupyter_client/localinterfaces.py'>,\n",
       " 'jupyter_core': <module 'jupyter_core' from '/Users/adityavyas/anaconda3/lib/python3.7/site-packages/jupyter_core/__init__.py'>,\n",
       " 'jupyter_core.version': <module 'jupyter_core.version' from '/Users/adityavyas/anaconda3/lib/python3.7/site-packages/jupyter_core/version.py'>,\n",
       " 'jupyter_core.paths': <module 'jupyter_core.paths' from '/Users/adityavyas/anaconda3/lib/python3.7/site-packages/jupyter_core/paths.py'>,\n",
       " 'distutils': <module 'distutils' from '/Users/adityavyas/anaconda3/lib/python3.7/distutils/__init__.py'>,\n",
       " 'distutils.util': <module 'distutils.util' from '/Users/adityavyas/anaconda3/lib/python3.7/distutils/util.py'>,\n",
       " 'distutils.errors': <module 'distutils.errors' from '/Users/adityavyas/anaconda3/lib/python3.7/distutils/errors.py'>,\n",
       " 'distutils.dep_util': <module 'distutils.dep_util' from '/Users/adityavyas/anaconda3/lib/python3.7/distutils/dep_util.py'>,\n",
       " 'distutils.spawn': <module 'distutils.spawn' from '/Users/adityavyas/anaconda3/lib/python3.7/distutils/spawn.py'>,\n",
       " 'distutils.debug': <module 'distutils.debug' from '/Users/adityavyas/anaconda3/lib/python3.7/distutils/debug.py'>,\n",
       " 'distutils.log': <module 'distutils.log' from '/Users/adityavyas/anaconda3/lib/python3.7/distutils/log.py'>,\n",
       " 'distutils.sysconfig': <module 'distutils.sysconfig' from '/Users/adityavyas/anaconda3/lib/python3.7/distutils/sysconfig.py'>,\n",
       " 'jupyter_client.launcher': <module 'jupyter_client.launcher' from '/Users/adityavyas/anaconda3/lib/python3.7/site-packages/jupyter_client/launcher.py'>,\n",
       " 'traitlets.log': <module 'traitlets.log' from '/Users/adityavyas/anaconda3/lib/python3.7/site-packages/traitlets/log.py'>,\n",
       " 'jupyter_client.client': <module 'jupyter_client.client' from '/Users/adityavyas/anaconda3/lib/python3.7/site-packages/jupyter_client/client.py'>,\n",
       " 'jupyter_client.channels': <module 'jupyter_client.channels' from '/Users/adityavyas/anaconda3/lib/python3.7/site-packages/jupyter_client/channels.py'>,\n",
       " 'jupyter_client.channelsabc': <module 'jupyter_client.channelsabc' from '/Users/adityavyas/anaconda3/lib/python3.7/site-packages/jupyter_client/channelsabc.py'>,\n",
       " 'jupyter_client.clientabc': <module 'jupyter_client.clientabc' from '/Users/adityavyas/anaconda3/lib/python3.7/site-packages/jupyter_client/clientabc.py'>,\n",
       " 'jupyter_client.manager': <module 'jupyter_client.manager' from '/Users/adityavyas/anaconda3/lib/python3.7/site-packages/jupyter_client/manager.py'>,\n",
       " 'jupyter_client.kernelspec': <module 'jupyter_client.kernelspec' from '/Users/adityavyas/anaconda3/lib/python3.7/site-packages/jupyter_client/kernelspec.py'>,\n",
       " 'jupyter_client.managerabc': <module 'jupyter_client.managerabc' from '/Users/adityavyas/anaconda3/lib/python3.7/site-packages/jupyter_client/managerabc.py'>,\n",
       " 'jupyter_client.blocking': <module 'jupyter_client.blocking' from '/Users/adityavyas/anaconda3/lib/python3.7/site-packages/jupyter_client/blocking/__init__.py'>,\n",
       " 'jupyter_client.blocking.client': <module 'jupyter_client.blocking.client' from '/Users/adityavyas/anaconda3/lib/python3.7/site-packages/jupyter_client/blocking/client.py'>,\n",
       " 'jupyter_client.blocking.channels': <module 'jupyter_client.blocking.channels' from '/Users/adityavyas/anaconda3/lib/python3.7/site-packages/jupyter_client/blocking/channels.py'>,\n",
       " 'jupyter_client.asynchronous': <module 'jupyter_client.asynchronous' from '/Users/adityavyas/anaconda3/lib/python3.7/site-packages/jupyter_client/asynchronous/__init__.py'>,\n",
       " 'jupyter_client.asynchronous.client': <module 'jupyter_client.asynchronous.client' from '/Users/adityavyas/anaconda3/lib/python3.7/site-packages/jupyter_client/asynchronous/client.py'>,\n",
       " 'zmq.asyncio': <module 'zmq.asyncio' from '/Users/adityavyas/anaconda3/lib/python3.7/site-packages/zmq/asyncio/__init__.py'>,\n",
       " 'zmq._future': <module 'zmq._future' from '/Users/adityavyas/anaconda3/lib/python3.7/site-packages/zmq/_future.py'>,\n",
       " 'jupyter_client.asynchronous.channels': <module 'jupyter_client.asynchronous.channels' from '/Users/adityavyas/anaconda3/lib/python3.7/site-packages/jupyter_client/asynchronous/channels.py'>,\n",
       " 'jupyter_client.multikernelmanager': <module 'jupyter_client.multikernelmanager' from '/Users/adityavyas/anaconda3/lib/python3.7/site-packages/jupyter_client/multikernelmanager.py'>,\n",
       " 'uuid': <module 'uuid' from '/Users/adityavyas/anaconda3/lib/python3.7/uuid.py'>,\n",
       " '_uuid': <module '_uuid' from '/Users/adityavyas/anaconda3/lib/python3.7/lib-dynload/_uuid.cpython-37m-darwin.so'>,\n",
       " 'ipykernel.kernelapp': <module 'ipykernel.kernelapp' from '/Users/adityavyas/anaconda3/lib/python3.7/site-packages/ipykernel/kernelapp.py'>,\n",
       " 'tornado': <module 'tornado' from '/Users/adityavyas/anaconda3/lib/python3.7/site-packages/tornado/__init__.py'>,\n",
       " 'tornado.ioloop': <module 'tornado.ioloop' from '/Users/adityavyas/anaconda3/lib/python3.7/site-packages/tornado/ioloop.py'>,\n",
       " 'numbers': <module 'numbers' from '/Users/adityavyas/anaconda3/lib/python3.7/numbers.py'>,\n",
       " 'tornado.concurrent': <module 'tornado.concurrent' from '/Users/adityavyas/anaconda3/lib/python3.7/site-packages/tornado/concurrent.py'>,\n",
       " 'tornado.log': <module 'tornado.log' from '/Users/adityavyas/anaconda3/lib/python3.7/site-packages/tornado/log.py'>,\n",
       " 'logging.handlers': <module 'logging.handlers' from '/Users/adityavyas/anaconda3/lib/python3.7/logging/handlers.py'>,\n",
       " 'tornado.escape': <module 'tornado.escape' from '/Users/adityavyas/anaconda3/lib/python3.7/site-packages/tornado/escape.py'>,\n",
       " 'tornado.util': <module 'tornado.util' from '/Users/adityavyas/anaconda3/lib/python3.7/site-packages/tornado/util.py'>,\n",
       " 'tornado.speedups': <module 'tornado.speedups' from '/Users/adityavyas/anaconda3/lib/python3.7/site-packages/tornado/speedups.cpython-37m-darwin.so'>,\n",
       " 'zmq.eventloop': <module 'zmq.eventloop' from '/Users/adityavyas/anaconda3/lib/python3.7/site-packages/zmq/eventloop/__init__.py'>,\n",
       " 'zmq.eventloop.ioloop': <module 'zmq.eventloop.ioloop' from '/Users/adityavyas/anaconda3/lib/python3.7/site-packages/zmq/eventloop/ioloop.py'>,\n",
       " 'tornado.platform': <module 'tornado.platform' from '/Users/adityavyas/anaconda3/lib/python3.7/site-packages/tornado/platform/__init__.py'>,\n",
       " 'tornado.platform.asyncio': <module 'tornado.platform.asyncio' from '/Users/adityavyas/anaconda3/lib/python3.7/site-packages/tornado/platform/asyncio.py'>,\n",
       " 'tornado.gen': <module 'tornado.gen' from '/Users/adityavyas/anaconda3/lib/python3.7/site-packages/tornado/gen.py'>,\n",
       " 'zmq.eventloop.zmqstream': <module 'zmq.eventloop.zmqstream' from '/Users/adityavyas/anaconda3/lib/python3.7/site-packages/zmq/eventloop/zmqstream.py'>,\n",
       " 'ipykernel.iostream': <module 'ipykernel.iostream' from '/Users/adityavyas/anaconda3/lib/python3.7/site-packages/ipykernel/iostream.py'>,\n",
       " 'imp': <module 'imp' from '/Users/adityavyas/anaconda3/lib/python3.7/imp.py'>,\n",
       " 'jupyter_client.session': <module 'jupyter_client.session' from '/Users/adityavyas/anaconda3/lib/python3.7/site-packages/jupyter_client/session.py'>,\n",
       " 'hmac': <module 'hmac' from '/Users/adityavyas/anaconda3/lib/python3.7/hmac.py'>,\n",
       " 'jupyter_client.jsonutil': <module 'jupyter_client.jsonutil' from '/Users/adityavyas/anaconda3/lib/python3.7/site-packages/jupyter_client/jsonutil.py'>,\n",
       " 'dateutil': <module 'dateutil' from '/Users/adityavyas/anaconda3/lib/python3.7/site-packages/dateutil/__init__.py'>,\n",
       " 'dateutil._version': <module 'dateutil._version' from '/Users/adityavyas/anaconda3/lib/python3.7/site-packages/dateutil/_version.py'>,\n",
       " 'dateutil.parser': <module 'dateutil.parser' from '/Users/adityavyas/anaconda3/lib/python3.7/site-packages/dateutil/parser/__init__.py'>,\n",
       " 'dateutil.parser._parser': <module 'dateutil.parser._parser' from '/Users/adityavyas/anaconda3/lib/python3.7/site-packages/dateutil/parser/_parser.py'>,\n",
       " 'decimal': <module 'decimal' from '/Users/adityavyas/anaconda3/lib/python3.7/decimal.py'>,\n",
       " '_decimal': <module '_decimal' from '/Users/adityavyas/anaconda3/lib/python3.7/lib-dynload/_decimal.cpython-37m-darwin.so'>,\n",
       " 'dateutil.relativedelta': <module 'dateutil.relativedelta' from '/Users/adityavyas/anaconda3/lib/python3.7/site-packages/dateutil/relativedelta.py'>,\n",
       " 'dateutil._common': <module 'dateutil._common' from '/Users/adityavyas/anaconda3/lib/python3.7/site-packages/dateutil/_common.py'>,\n",
       " 'dateutil.tz': <module 'dateutil.tz' from '/Users/adityavyas/anaconda3/lib/python3.7/site-packages/dateutil/tz/__init__.py'>,\n",
       " 'dateutil.tz.tz': <module 'dateutil.tz.tz' from '/Users/adityavyas/anaconda3/lib/python3.7/site-packages/dateutil/tz/tz.py'>,\n",
       " 'six.moves': <module 'six.moves' (<six._SixMetaPathImporter object at 0x7fc54f535310>)>,\n",
       " 'dateutil.tz._common': <module 'dateutil.tz._common' from '/Users/adityavyas/anaconda3/lib/python3.7/site-packages/dateutil/tz/_common.py'>,\n",
       " 'dateutil.tz._factories': <module 'dateutil.tz._factories' from '/Users/adityavyas/anaconda3/lib/python3.7/site-packages/dateutil/tz/_factories.py'>,\n",
       " 'dateutil.parser.isoparser': <module 'dateutil.parser.isoparser' from '/Users/adityavyas/anaconda3/lib/python3.7/site-packages/dateutil/parser/isoparser.py'>,\n",
       " '_strptime': <module '_strptime' from '/Users/adityavyas/anaconda3/lib/python3.7/_strptime.py'>,\n",
       " 'jupyter_client.adapter': <module 'jupyter_client.adapter' from '/Users/adityavyas/anaconda3/lib/python3.7/site-packages/jupyter_client/adapter.py'>,\n",
       " 'ipykernel.heartbeat': <module 'ipykernel.heartbeat' from '/Users/adityavyas/anaconda3/lib/python3.7/site-packages/ipykernel/heartbeat.py'>,\n",
       " 'ipykernel.ipkernel': <module 'ipykernel.ipkernel' from '/Users/adityavyas/anaconda3/lib/python3.7/site-packages/ipykernel/ipkernel.py'>,\n",
       " 'IPython.utils.tokenutil': <module 'IPython.utils.tokenutil' from '/Users/adityavyas/anaconda3/lib/python3.7/site-packages/IPython/utils/tokenutil.py'>,\n",
       " 'ipykernel.comm': <module 'ipykernel.comm' from '/Users/adityavyas/anaconda3/lib/python3.7/site-packages/ipykernel/comm/__init__.py'>,\n",
       " 'ipykernel.comm.manager': <module 'ipykernel.comm.manager' from '/Users/adityavyas/anaconda3/lib/python3.7/site-packages/ipykernel/comm/manager.py'>,\n",
       " 'ipykernel.comm.comm': <module 'ipykernel.comm.comm' from '/Users/adityavyas/anaconda3/lib/python3.7/site-packages/ipykernel/comm/comm.py'>,\n",
       " 'ipykernel.kernelbase': <module 'ipykernel.kernelbase' from '/Users/adityavyas/anaconda3/lib/python3.7/site-packages/ipykernel/kernelbase.py'>,\n",
       " 'tornado.queues': <module 'tornado.queues' from '/Users/adityavyas/anaconda3/lib/python3.7/site-packages/tornado/queues.py'>,\n",
       " 'tornado.locks': <module 'tornado.locks' from '/Users/adityavyas/anaconda3/lib/python3.7/site-packages/tornado/locks.py'>,\n",
       " 'ipykernel.jsonutil': <module 'ipykernel.jsonutil' from '/Users/adityavyas/anaconda3/lib/python3.7/site-packages/ipykernel/jsonutil.py'>,\n",
       " 'ipykernel.zmqshell': <module 'ipykernel.zmqshell' from '/Users/adityavyas/anaconda3/lib/python3.7/site-packages/ipykernel/zmqshell.py'>,\n",
       " 'IPython.core.payloadpage': <module 'IPython.core.payloadpage' from '/Users/adityavyas/anaconda3/lib/python3.7/site-packages/IPython/core/payloadpage.py'>,\n",
       " 'ipykernel.displayhook': <module 'ipykernel.displayhook' from '/Users/adityavyas/anaconda3/lib/python3.7/site-packages/ipykernel/displayhook.py'>,\n",
       " 'ipykernel.eventloops': <module 'ipykernel.eventloops' from '/Users/adityavyas/anaconda3/lib/python3.7/site-packages/ipykernel/eventloops.py'>,\n",
       " 'distutils.version': <module 'distutils.version' from '/Users/adityavyas/anaconda3/lib/python3.7/distutils/version.py'>,\n",
       " 'ipykernel.parentpoller': <module 'ipykernel.parentpoller' from '/Users/adityavyas/anaconda3/lib/python3.7/site-packages/ipykernel/parentpoller.py'>,\n",
       " 'faulthandler': <module 'faulthandler' (built-in)>,\n",
       " 'ipykernel.datapub': <module 'ipykernel.datapub' from '/Users/adityavyas/anaconda3/lib/python3.7/site-packages/ipykernel/datapub.py'>,\n",
       " 'ipykernel.serialize': <module 'ipykernel.serialize' from '/Users/adityavyas/anaconda3/lib/python3.7/site-packages/ipykernel/serialize.py'>,\n",
       " 'ipykernel.pickleutil': <module 'ipykernel.pickleutil' from '/Users/adityavyas/anaconda3/lib/python3.7/site-packages/ipykernel/pickleutil.py'>,\n",
       " 'ipykernel.codeutil': <module 'ipykernel.codeutil' from '/Users/adityavyas/anaconda3/lib/python3.7/site-packages/ipykernel/codeutil.py'>,\n",
       " 'IPython.core.completerlib': <module 'IPython.core.completerlib' from '/Users/adityavyas/anaconda3/lib/python3.7/site-packages/IPython/core/completerlib.py'>,\n",
       " 'appnope': <module 'appnope' from '/Users/adityavyas/anaconda3/lib/python3.7/site-packages/appnope/__init__.py'>,\n",
       " 'appnope._nope': <module 'appnope._nope' from '/Users/adityavyas/anaconda3/lib/python3.7/site-packages/appnope/_nope.py'>,\n",
       " 'ctypes.util': <module 'ctypes.util' from '/Users/adityavyas/anaconda3/lib/python3.7/ctypes/util.py'>,\n",
       " 'ctypes.macholib': <module 'ctypes.macholib' from '/Users/adityavyas/anaconda3/lib/python3.7/ctypes/macholib/__init__.py'>,\n",
       " 'ctypes.macholib.dyld': <module 'ctypes.macholib.dyld' from '/Users/adityavyas/anaconda3/lib/python3.7/ctypes/macholib/dyld.py'>,\n",
       " 'ctypes.macholib.framework': <module 'ctypes.macholib.framework' from '/Users/adityavyas/anaconda3/lib/python3.7/ctypes/macholib/framework.py'>,\n",
       " 'ctypes.macholib.dylib': <module 'ctypes.macholib.dylib' from '/Users/adityavyas/anaconda3/lib/python3.7/ctypes/macholib/dylib.py'>,\n",
       " 'storemagic': <module 'storemagic' from '/Users/adityavyas/anaconda3/lib/python3.7/site-packages/IPython/extensions/storemagic.py'>,\n",
       " 'jedi.plugins': <module 'jedi.plugins' from '/Users/adityavyas/anaconda3/lib/python3.7/site-packages/jedi/plugins/__init__.py'>,\n",
       " 'jedi.plugins.stdlib': <module 'jedi.plugins.stdlib' from '/Users/adityavyas/anaconda3/lib/python3.7/site-packages/jedi/plugins/stdlib.py'>,\n",
       " 'jedi.plugins.base': <module 'jedi.plugins.base' from '/Users/adityavyas/anaconda3/lib/python3.7/site-packages/jedi/plugins/base.py'>,\n",
       " 'jedi.plugins.flask': <module 'jedi.plugins.flask' from '/Users/adityavyas/anaconda3/lib/python3.7/site-packages/jedi/plugins/flask.py'>,\n",
       " 'jedi.evaluate.dynamic': <module 'jedi.evaluate.dynamic' from '/Users/adityavyas/anaconda3/lib/python3.7/site-packages/jedi/evaluate/dynamic.py'>}"
      ]
     },
     "execution_count": 56,
     "metadata": {},
     "output_type": "execute_result"
    }
   ],
   "source": [
    "sys.modules"
   ]
  },
  {
   "cell_type": "markdown",
   "metadata": {},
   "source": [
    "Relative import \n",
    "absolute import "
   ]
  },
  {
   "cell_type": "markdown",
   "metadata": {},
   "source": [
    "### Custom Error Names"
   ]
  },
  {
   "cell_type": "code",
   "execution_count": 57,
   "metadata": {},
   "outputs": [],
   "source": [
    "def IncorrectValueFound(ValueError):\n",
    "    pass"
   ]
  },
  {
   "cell_type": "markdown",
   "metadata": {},
   "source": [
    "### First Class Functions"
   ]
  },
  {
   "cell_type": "code",
   "execution_count": 58,
   "metadata": {},
   "outputs": [],
   "source": [
    "def search(sequence,expected,finder):\n",
    "    for i in sequence:\n",
    "        if finder(i)==expected:\n",
    "            return i\n",
    "    raise RunTimeError(f\"Could not find element with {expected}.\")   "
   ]
  },
  {
   "cell_type": "code",
   "execution_count": 60,
   "metadata": {},
   "outputs": [],
   "source": [
    "friends = [{\"Name\":\"Aditya\",'age':24},\n",
    "          {\"Name\":\"Utkarsh\",'age':29},\n",
    "          {\"Name\":\"Shivam\",'age':24}]"
   ]
  },
  {
   "cell_type": "code",
   "execution_count": 64,
   "metadata": {},
   "outputs": [],
   "source": [
    "def get_friend_name(friend):\n",
    "    return friend['Name']"
   ]
  },
  {
   "cell_type": "code",
   "execution_count": 65,
   "metadata": {},
   "outputs": [
    {
     "name": "stdout",
     "output_type": "stream",
     "text": [
      "{'Name': 'Shivam', 'age': 24}\n"
     ]
    }
   ],
   "source": [
    "print(search(friends,'Shivam',get_friend_name))"
   ]
  },
  {
   "cell_type": "code",
   "execution_count": 67,
   "metadata": {},
   "outputs": [
    {
     "name": "stdout",
     "output_type": "stream",
     "text": [
      "{'Name': 'Shivam', 'age': 24}\n"
     ]
    }
   ],
   "source": [
    "from operator import itemgetter\n",
    "print(search(friends,'Shivam',itemgetter('Name')))"
   ]
  },
  {
   "cell_type": "markdown",
   "metadata": {},
   "source": [
    "### Decorator"
   ]
  },
  {
   "cell_type": "code",
   "execution_count": 75,
   "metadata": {},
   "outputs": [],
   "source": [
    "user = {'username':'Aditya','access_level':'guest'}\n",
    "\n",
    "def get_admin_password():\n",
    "    return '1234'\n",
    "\n",
    "def make_secure(func):\n",
    "    \n",
    "    def secure_function():\n",
    "        if user['access_level']=='admin':\n",
    "            return func()\n",
    "        else:\n",
    "            return f\"Access denied for {user['username']}.\"\n",
    "    return secure_function\n"
   ]
  },
  {
   "cell_type": "code",
   "execution_count": 76,
   "metadata": {},
   "outputs": [
    {
     "name": "stdout",
     "output_type": "stream",
     "text": [
      "1234\n"
     ]
    }
   ],
   "source": [
    "print(get_admin_password())"
   ]
  },
  {
   "cell_type": "code",
   "execution_count": 77,
   "metadata": {},
   "outputs": [
    {
     "name": "stdout",
     "output_type": "stream",
     "text": [
      "Access denied for Aditya.\n"
     ]
    }
   ],
   "source": [
    "get_admin_password = make_secure(get_admin_password) #Usage of Decorator\n",
    "print(get_admin_password())"
   ]
  },
  {
   "cell_type": "code",
   "execution_count": 78,
   "metadata": {},
   "outputs": [
    {
     "name": "stdout",
     "output_type": "stream",
     "text": [
      "Access denied for Aditya.\n"
     ]
    }
   ],
   "source": [
    "import functools \n",
    "\n",
    "def make_secure(func):\n",
    "    @functools.wraps(func)\n",
    "    def secure_function():\n",
    "        if user['access_level']=='admin':\n",
    "            return func()\n",
    "        else:\n",
    "            return f\"Access denied for {user['username']}.\"\n",
    "    return secure_function\n",
    "\n",
    "@make_secure\n",
    "def get_admin_password():\n",
    "    return '1234'\n",
    "print(get_admin_password())"
   ]
  },
  {
   "cell_type": "markdown",
   "metadata": {},
   "source": [
    "#### Decorator with Parameters"
   ]
  },
  {
   "cell_type": "code",
   "execution_count": 81,
   "metadata": {},
   "outputs": [
    {
     "name": "stdout",
     "output_type": "stream",
     "text": [
      "Access denied for Aditya.\n"
     ]
    }
   ],
   "source": [
    "import functools \n",
    "\n",
    "def make_secure(func):\n",
    "    @functools.wraps(func)\n",
    "    def secure_function(*args,**kwargs):\n",
    "        if user['access_level']=='admin':\n",
    "            return func(*args,**kwargs)\n",
    "        else:\n",
    "            return f\"Access denied for {user['username']}.\"\n",
    "    return secure_function\n",
    "\n",
    "@make_secure\n",
    "def get_password(panel):\n",
    "    if panel=='admin':\n",
    "        return '1234'\n",
    "    elif panel=='billing':\n",
    "        return 'super_secure_password'\n",
    "    \n",
    "print(get_password('billing'))"
   ]
  },
  {
   "cell_type": "code",
   "execution_count": 90,
   "metadata": {},
   "outputs": [
    {
     "name": "stdout",
     "output_type": "stream",
     "text": [
      "No admin permission for Aditya.\n",
      "user : user_password\n"
     ]
    }
   ],
   "source": [
    "import functools \n",
    "\n",
    "user = {'username':'Aditya','access_level':'guest'}\n",
    "\n",
    "\n",
    "    \n",
    "def make_secure(access_level):\n",
    "    def decorator(func):\n",
    "        @functools.wraps(func)\n",
    "        def secure_function(*args,**kwargs):\n",
    "            if user['access_level']==access_level:\n",
    "                return func(*args,**kwargs)\n",
    "            else:\n",
    "                return f\"No {access_level} permission for {user['username']}.\"\n",
    "        return secure_function\n",
    "    return decorator\n",
    "\n",
    "@make_secure('admin')\n",
    "def get_admin_password(panel):\n",
    "    return \"admin : 1234\"\n",
    "\n",
    "@make_secure('guest')\n",
    "def get_dashboard_password(panel):\n",
    "    return \"user : user_password\"\n",
    "\n",
    "\n",
    "print(get_admin_password('billing'))\n",
    "print(get_dashboard_password('billing'))"
   ]
  },
  {
   "cell_type": "markdown",
   "metadata": {},
   "source": [
    "### Handling Mutability "
   ]
  },
  {
   "cell_type": "markdown",
   "metadata": {},
   "source": [
    "Don't use same assignment in parameters\n",
    "from typing import List, Optional\n",
    "\n",
    "def __init__(self,name:str,grades: List[int]=[]):\n",
    "\n",
    "    self.grades = grades\n",
    "\n",
    "In this empty list will be shared by every object in which grades are not passed\n",
    "Therefore,\n",
    "\n",
    "def __init__(self,name:str,grades: Optional[List[int]]=None):\n",
    "\n",
    "    self.grades = grades or [] #This will assign a different empty list\n",
    "\n"
   ]
  },
  {
   "cell_type": "code",
   "execution_count": null,
   "metadata": {},
   "outputs": [],
   "source": []
  }
 ],
 "metadata": {
  "kernelspec": {
   "display_name": "Python 3",
   "language": "python",
   "name": "python3"
  },
  "language_info": {
   "codemirror_mode": {
    "name": "ipython",
    "version": 3
   },
   "file_extension": ".py",
   "mimetype": "text/x-python",
   "name": "python",
   "nbconvert_exporter": "python",
   "pygments_lexer": "ipython3",
   "version": "3.7.6"
  }
 },
 "nbformat": 4,
 "nbformat_minor": 4
}
